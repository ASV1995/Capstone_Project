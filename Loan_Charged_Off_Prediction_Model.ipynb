{
  "cells": [
    {
      "cell_type": "markdown",
      "metadata": {
        "id": "anOA2o3Di9Ts"
      },
      "source": [
        "# **Starter Pack**"
      ]
    },
    {
      "cell_type": "markdown",
      "metadata": {
        "id": "NvyuzuLVzynR"
      },
      "source": [
        "### **The Imports**"
      ]
    },
    {
      "cell_type": "code",
      "execution_count": 1,
      "metadata": {
        "id": "5bEdHLwKWEFX"
      },
      "outputs": [],
      "source": [
        "import pandas as pd\n",
        "import matplotlib.pyplot as plt\n",
        "import numpy as np\n",
        "import seaborn as sns\n",
        "\n",
        "import warnings\n",
        "warnings.filterwarnings(\"ignore\")"
      ]
    },
    {
      "cell_type": "code",
      "execution_count": 448,
      "metadata": {
        "colab": {
          "base_uri": "https://localhost:8080/"
        },
        "id": "YJAGx6I5a2vZ",
        "outputId": "fc26a60b-e61e-4276-d402-0f3d00116f34"
      },
      "outputs": [
        {
          "name": "stdout",
          "output_type": "stream",
          "text": [
            "Mounted at /content/drive\n"
          ]
        }
      ],
      "source": [
        "from google.colab import drive\n",
        "drive.mount('/content/drive', force_remount = True)"
      ]
    },
    {
      "cell_type": "markdown",
      "metadata": {
        "id": "GwaJ5rVn_ymw"
      },
      "source": [
        "# **DataFrame**"
      ]
    },
    {
      "cell_type": "markdown",
      "metadata": {
        "id": "ACbaQUoUhA8S"
      },
      "source": [
        "### **The DataFrame**"
      ]
    },
    {
      "cell_type": "code",
      "execution_count": 9,
      "metadata": {
        "id": "G54g5rrQuHRW"
      },
      "outputs": [],
      "source": [
        "path = \"/Users/amirsaccount/Desktop/ConcordiaBootcamp/Kaggledataset/accepted_2007_to_2018Q4.csv.gz\"\n",
        "df = pd.read_csv(path, low_memory=False, compression = \"gzip\")"
      ]
    },
    {
      "cell_type": "code",
      "execution_count": 10,
      "metadata": {
        "colab": {
          "base_uri": "https://localhost:8080/",
          "height": 386
        },
        "id": "IqTTFFD-a201",
        "outputId": "a43732ee-f4f3-4b8c-e095-a25d5db661ed"
      },
      "outputs": [
        {
          "data": {
            "text/html": [
              "<div>\n",
              "<style scoped>\n",
              "    .dataframe tbody tr th:only-of-type {\n",
              "        vertical-align: middle;\n",
              "    }\n",
              "\n",
              "    .dataframe tbody tr th {\n",
              "        vertical-align: top;\n",
              "    }\n",
              "\n",
              "    .dataframe thead th {\n",
              "        text-align: right;\n",
              "    }\n",
              "</style>\n",
              "<table border=\"1\" class=\"dataframe\">\n",
              "  <thead>\n",
              "    <tr style=\"text-align: right;\">\n",
              "      <th></th>\n",
              "      <th>id</th>\n",
              "      <th>member_id</th>\n",
              "      <th>loan_amnt</th>\n",
              "      <th>funded_amnt</th>\n",
              "      <th>funded_amnt_inv</th>\n",
              "      <th>term</th>\n",
              "      <th>int_rate</th>\n",
              "      <th>installment</th>\n",
              "      <th>grade</th>\n",
              "      <th>sub_grade</th>\n",
              "      <th>...</th>\n",
              "      <th>hardship_payoff_balance_amount</th>\n",
              "      <th>hardship_last_payment_amount</th>\n",
              "      <th>disbursement_method</th>\n",
              "      <th>debt_settlement_flag</th>\n",
              "      <th>debt_settlement_flag_date</th>\n",
              "      <th>settlement_status</th>\n",
              "      <th>settlement_date</th>\n",
              "      <th>settlement_amount</th>\n",
              "      <th>settlement_percentage</th>\n",
              "      <th>settlement_term</th>\n",
              "    </tr>\n",
              "  </thead>\n",
              "  <tbody>\n",
              "    <tr>\n",
              "      <th>0</th>\n",
              "      <td>68407277</td>\n",
              "      <td>NaN</td>\n",
              "      <td>3600.0</td>\n",
              "      <td>3600.0</td>\n",
              "      <td>3600.0</td>\n",
              "      <td>36 months</td>\n",
              "      <td>13.99</td>\n",
              "      <td>123.03</td>\n",
              "      <td>C</td>\n",
              "      <td>C4</td>\n",
              "      <td>...</td>\n",
              "      <td>NaN</td>\n",
              "      <td>NaN</td>\n",
              "      <td>Cash</td>\n",
              "      <td>N</td>\n",
              "      <td>NaN</td>\n",
              "      <td>NaN</td>\n",
              "      <td>NaN</td>\n",
              "      <td>NaN</td>\n",
              "      <td>NaN</td>\n",
              "      <td>NaN</td>\n",
              "    </tr>\n",
              "    <tr>\n",
              "      <th>1</th>\n",
              "      <td>68355089</td>\n",
              "      <td>NaN</td>\n",
              "      <td>24700.0</td>\n",
              "      <td>24700.0</td>\n",
              "      <td>24700.0</td>\n",
              "      <td>36 months</td>\n",
              "      <td>11.99</td>\n",
              "      <td>820.28</td>\n",
              "      <td>C</td>\n",
              "      <td>C1</td>\n",
              "      <td>...</td>\n",
              "      <td>NaN</td>\n",
              "      <td>NaN</td>\n",
              "      <td>Cash</td>\n",
              "      <td>N</td>\n",
              "      <td>NaN</td>\n",
              "      <td>NaN</td>\n",
              "      <td>NaN</td>\n",
              "      <td>NaN</td>\n",
              "      <td>NaN</td>\n",
              "      <td>NaN</td>\n",
              "    </tr>\n",
              "    <tr>\n",
              "      <th>2</th>\n",
              "      <td>68341763</td>\n",
              "      <td>NaN</td>\n",
              "      <td>20000.0</td>\n",
              "      <td>20000.0</td>\n",
              "      <td>20000.0</td>\n",
              "      <td>60 months</td>\n",
              "      <td>10.78</td>\n",
              "      <td>432.66</td>\n",
              "      <td>B</td>\n",
              "      <td>B4</td>\n",
              "      <td>...</td>\n",
              "      <td>NaN</td>\n",
              "      <td>NaN</td>\n",
              "      <td>Cash</td>\n",
              "      <td>N</td>\n",
              "      <td>NaN</td>\n",
              "      <td>NaN</td>\n",
              "      <td>NaN</td>\n",
              "      <td>NaN</td>\n",
              "      <td>NaN</td>\n",
              "      <td>NaN</td>\n",
              "    </tr>\n",
              "    <tr>\n",
              "      <th>3</th>\n",
              "      <td>66310712</td>\n",
              "      <td>NaN</td>\n",
              "      <td>35000.0</td>\n",
              "      <td>35000.0</td>\n",
              "      <td>35000.0</td>\n",
              "      <td>60 months</td>\n",
              "      <td>14.85</td>\n",
              "      <td>829.90</td>\n",
              "      <td>C</td>\n",
              "      <td>C5</td>\n",
              "      <td>...</td>\n",
              "      <td>NaN</td>\n",
              "      <td>NaN</td>\n",
              "      <td>Cash</td>\n",
              "      <td>N</td>\n",
              "      <td>NaN</td>\n",
              "      <td>NaN</td>\n",
              "      <td>NaN</td>\n",
              "      <td>NaN</td>\n",
              "      <td>NaN</td>\n",
              "      <td>NaN</td>\n",
              "    </tr>\n",
              "    <tr>\n",
              "      <th>4</th>\n",
              "      <td>68476807</td>\n",
              "      <td>NaN</td>\n",
              "      <td>10400.0</td>\n",
              "      <td>10400.0</td>\n",
              "      <td>10400.0</td>\n",
              "      <td>60 months</td>\n",
              "      <td>22.45</td>\n",
              "      <td>289.91</td>\n",
              "      <td>F</td>\n",
              "      <td>F1</td>\n",
              "      <td>...</td>\n",
              "      <td>NaN</td>\n",
              "      <td>NaN</td>\n",
              "      <td>Cash</td>\n",
              "      <td>N</td>\n",
              "      <td>NaN</td>\n",
              "      <td>NaN</td>\n",
              "      <td>NaN</td>\n",
              "      <td>NaN</td>\n",
              "      <td>NaN</td>\n",
              "      <td>NaN</td>\n",
              "    </tr>\n",
              "  </tbody>\n",
              "</table>\n",
              "<p>5 rows × 151 columns</p>\n",
              "</div>"
            ],
            "text/plain": [
              "         id  member_id  loan_amnt  funded_amnt  funded_amnt_inv        term  \\\n",
              "0  68407277        NaN     3600.0       3600.0           3600.0   36 months   \n",
              "1  68355089        NaN    24700.0      24700.0          24700.0   36 months   \n",
              "2  68341763        NaN    20000.0      20000.0          20000.0   60 months   \n",
              "3  66310712        NaN    35000.0      35000.0          35000.0   60 months   \n",
              "4  68476807        NaN    10400.0      10400.0          10400.0   60 months   \n",
              "\n",
              "   int_rate  installment grade sub_grade  ... hardship_payoff_balance_amount  \\\n",
              "0     13.99       123.03     C        C4  ...                            NaN   \n",
              "1     11.99       820.28     C        C1  ...                            NaN   \n",
              "2     10.78       432.66     B        B4  ...                            NaN   \n",
              "3     14.85       829.90     C        C5  ...                            NaN   \n",
              "4     22.45       289.91     F        F1  ...                            NaN   \n",
              "\n",
              "  hardship_last_payment_amount disbursement_method  debt_settlement_flag  \\\n",
              "0                          NaN                Cash                     N   \n",
              "1                          NaN                Cash                     N   \n",
              "2                          NaN                Cash                     N   \n",
              "3                          NaN                Cash                     N   \n",
              "4                          NaN                Cash                     N   \n",
              "\n",
              "  debt_settlement_flag_date settlement_status settlement_date  \\\n",
              "0                       NaN               NaN             NaN   \n",
              "1                       NaN               NaN             NaN   \n",
              "2                       NaN               NaN             NaN   \n",
              "3                       NaN               NaN             NaN   \n",
              "4                       NaN               NaN             NaN   \n",
              "\n",
              "  settlement_amount settlement_percentage settlement_term  \n",
              "0               NaN                   NaN             NaN  \n",
              "1               NaN                   NaN             NaN  \n",
              "2               NaN                   NaN             NaN  \n",
              "3               NaN                   NaN             NaN  \n",
              "4               NaN                   NaN             NaN  \n",
              "\n",
              "[5 rows x 151 columns]"
            ]
          },
          "execution_count": 10,
          "metadata": {},
          "output_type": "execute_result"
        }
      ],
      "source": [
        "df.head()"
      ]
    },
    {
      "cell_type": "code",
      "execution_count": 11,
      "metadata": {
        "colab": {
          "base_uri": "https://localhost:8080/"
        },
        "id": "KjNeo7xcvm6q",
        "outputId": "f265faf2-1c57-4477-a45e-4c6d255aa2b7"
      },
      "outputs": [
        {
          "data": {
            "text/plain": [
              "(2260701, 151)"
            ]
          },
          "execution_count": 11,
          "metadata": {},
          "output_type": "execute_result"
        }
      ],
      "source": [
        "df.shape"
      ]
    },
    {
      "cell_type": "code",
      "execution_count": 12,
      "metadata": {
        "colab": {
          "base_uri": "https://localhost:8080/"
        },
        "id": "q9uu07rNYq9o",
        "outputId": "d9b2cd70-bd2b-4fe6-81e3-d8bb2eed40a3"
      },
      "outputs": [
        {
          "data": {
            "text/plain": [
              "Index(['id', 'member_id', 'loan_amnt', 'funded_amnt', 'funded_amnt_inv',\n",
              "       'term', 'int_rate', 'installment', 'grade', 'sub_grade',\n",
              "       ...\n",
              "       'hardship_payoff_balance_amount', 'hardship_last_payment_amount',\n",
              "       'disbursement_method', 'debt_settlement_flag',\n",
              "       'debt_settlement_flag_date', 'settlement_status', 'settlement_date',\n",
              "       'settlement_amount', 'settlement_percentage', 'settlement_term'],\n",
              "      dtype='object', length=151)"
            ]
          },
          "execution_count": 12,
          "metadata": {},
          "output_type": "execute_result"
        }
      ],
      "source": [
        "df.columns"
      ]
    },
    {
      "cell_type": "code",
      "execution_count": 13,
      "metadata": {
        "colab": {
          "base_uri": "https://localhost:8080/"
        },
        "id": "xwEXxuhBY--V",
        "outputId": "520a2f1d-38e4-4f78-c82e-effaad9ec7ee"
      },
      "outputs": [
        {
          "name": "stdout",
          "output_type": "stream",
          "text": [
            "<class 'pandas.core.frame.DataFrame'>\n",
            "RangeIndex: 2260701 entries, 0 to 2260700\n",
            "Columns: 151 entries, id to settlement_term\n",
            "dtypes: float64(113), object(38)\n",
            "memory usage: 2.5+ GB\n"
          ]
        }
      ],
      "source": [
        "df.info()"
      ]
    },
    {
      "cell_type": "code",
      "execution_count": 14,
      "metadata": {
        "id": "Z3KjhheOgkwb"
      },
      "outputs": [],
      "source": [
        "# Memory usage of 2.5+ GB... Now thats a big file! Of course it is! There are 2,260,701 rows in this dataset!!!"
      ]
    },
    {
      "cell_type": "code",
      "execution_count": 15,
      "metadata": {
        "colab": {
          "base_uri": "https://localhost:8080/"
        },
        "id": "ND8dZcE5YrAK",
        "outputId": "ca00b7df-6a2f-4a4c-8b29-11e985467942"
      },
      "outputs": [
        {
          "data": {
            "text/plain": [
              "id                             0\n",
              "member_id                2260701\n",
              "loan_amnt                     33\n",
              "funded_amnt                   33\n",
              "funded_amnt_inv               33\n",
              "                          ...   \n",
              "settlement_status        2226455\n",
              "settlement_date          2226455\n",
              "settlement_amount        2226455\n",
              "settlement_percentage    2226455\n",
              "settlement_term          2226455\n",
              "Length: 151, dtype: int64"
            ]
          },
          "execution_count": 15,
          "metadata": {},
          "output_type": "execute_result"
        }
      ],
      "source": [
        "NaNCount = df.isna().sum()\n",
        "NaNCount"
      ]
    },
    {
      "cell_type": "code",
      "execution_count": 16,
      "metadata": {
        "id": "yZTGCruNYrCN"
      },
      "outputs": [],
      "source": [
        "# So quickly you can realize that not only is this dataset very large, but also filled with a lot of NaNs and unnecessary data that \n",
        "# won't be factored in calculating the score of an individual at risk of being charged off.\n",
        "\n",
        "# As a result, one of the first steps is to drop columns that I wont need in the dataset. This phase will be called\n",
        "# the data clean up phase which will involve dropping column(s) and removing the NaN values in all the rows of this dataset."
      ]
    },
    {
      "cell_type": "markdown",
      "metadata": {
        "id": "CN2DZcQbgtN1"
      },
      "source": [
        "###**The Clean Up Phase**"
      ]
    },
    {
      "cell_type": "code",
      "execution_count": 17,
      "metadata": {
        "id": "qvuTaF-ok5oK"
      },
      "outputs": [],
      "source": [
        "# Since I know the total number of rows for this dataset is exactly 2,260,701; any columns with missing values close to the number of rows \n",
        "# will be dropped as there simply is not enough data."
      ]
    },
    {
      "cell_type": "code",
      "execution_count": 18,
      "metadata": {
        "id": "mncRIHXGJV3x"
      },
      "outputs": [
        {
          "name": "stdout",
          "output_type": "stream",
          "text": [
            "id                       0\n",
            "member_id          2260701\n",
            "loan_amnt               33\n",
            "funded_amnt             33\n",
            "funded_amnt_inv         33\n",
            "dtype: int64\n",
            "term           33\n",
            "int_rate       33\n",
            "installment    33\n",
            "grade          33\n",
            "sub_grade      33\n",
            "dtype: int64\n",
            "emp_title              167002\n",
            "emp_length             146940\n",
            "home_ownership             33\n",
            "annual_inc                 37\n",
            "verification_status        33\n",
            "dtype: int64\n",
            "issue_d             33\n",
            "loan_status         33\n",
            "pymnt_plan          33\n",
            "url                 33\n",
            "desc           2134634\n",
            "dtype: int64\n",
            "purpose          33\n",
            "title         23358\n",
            "zip_code         34\n",
            "addr_state       33\n",
            "dti            1744\n",
            "dtype: int64\n",
            "delinq_2yrs         62\n",
            "earliest_cr_line    62\n",
            "fico_range_low      33\n",
            "fico_range_high     33\n",
            "inq_last_6mths      63\n",
            "dtype: int64\n",
            "mths_since_last_delinq    1158535\n",
            "mths_since_last_record    1901545\n",
            "open_acc                       62\n",
            "pub_rec                        62\n",
            "revol_bal                      33\n",
            "dtype: int64\n",
            "revol_util             1835\n",
            "total_acc                62\n",
            "initial_list_status      33\n",
            "out_prncp                33\n",
            "out_prncp_inv            33\n",
            "dtype: int64\n",
            "total_pymnt           33\n",
            "total_pymnt_inv       33\n",
            "total_rec_prncp       33\n",
            "total_rec_int         33\n",
            "total_rec_late_fee    33\n",
            "dtype: int64\n",
            "recoveries                      33\n",
            "collection_recovery_fee         33\n",
            "last_pymnt_d                  2460\n",
            "last_pymnt_amnt                 33\n",
            "next_pymnt_d               1345343\n",
            "dtype: int64\n",
            "last_credit_pull_d                 105\n",
            "last_fico_range_high                33\n",
            "last_fico_range_low                 33\n",
            "collections_12_mths_ex_med         178\n",
            "mths_since_last_major_derog    1679926\n",
            "dtype: int64\n",
            "policy_code                       33\n",
            "application_type                  33\n",
            "annual_inc_joint             2139991\n",
            "dti_joint                    2139995\n",
            "verification_status_joint    2144971\n",
            "dtype: int64\n",
            "acc_now_delinq        62\n",
            "tot_coll_amt       70309\n",
            "tot_cur_bal        70309\n",
            "open_acc_6m       866163\n",
            "open_act_il       866162\n",
            "dtype: int64\n",
            "open_il_12m            866162\n",
            "open_il_24m            866162\n",
            "mths_since_rcnt_il     909957\n",
            "total_bal_il           866162\n",
            "il_util               1068883\n",
            "dtype: int64\n",
            "open_rv_12m         866162\n",
            "open_rv_24m         866162\n",
            "max_bal_bc          866162\n",
            "all_util            866381\n",
            "total_rev_hi_lim     70309\n",
            "dtype: int64\n",
            "inq_fi                  866162\n",
            "total_cu_tl             866163\n",
            "inq_last_12m            866163\n",
            "acc_open_past_24mths     50063\n",
            "avg_cur_bal              70379\n",
            "dtype: int64\n",
            "bc_open_to_buy               74968\n",
            "bc_util                      76104\n",
            "chargeoff_within_12_mths       178\n",
            "delinq_amnt                     62\n",
            "mo_sin_old_il_acct          139104\n",
            "dtype: int64\n",
            "mo_sin_old_rev_tl_op     70310\n",
            "mo_sin_rcnt_rev_tl_op    70310\n",
            "mo_sin_rcnt_tl           70309\n",
            "mort_acc                 50063\n",
            "mths_since_recent_bc     73445\n",
            "dtype: int64\n",
            "mths_since_recent_bc_dlq          1741000\n",
            "mths_since_recent_inq              295468\n",
            "mths_since_recent_revol_delinq    1520342\n",
            "num_accts_ever_120_pd               70309\n",
            "num_actv_bc_tl                      70309\n",
            "dtype: int64\n",
            "num_actv_rev_tl    70309\n",
            "num_bc_sats        58623\n",
            "num_bc_tl          70309\n",
            "num_il_tl          70309\n",
            "num_op_rev_tl      70309\n",
            "dtype: int64\n",
            "num_rev_accts           70310\n",
            "num_rev_tl_bal_gt_0     70309\n",
            "num_sats                58623\n",
            "num_tl_120dpd_2m       153690\n",
            "num_tl_30dpd            70309\n",
            "dtype: int64\n",
            "num_tl_90g_dpd_24m      70309\n",
            "num_tl_op_past_12m      70309\n",
            "pct_tl_nvr_dlq          70464\n",
            "percent_bc_gt_75        75412\n",
            "pub_rec_bankruptcies     1398\n",
            "dtype: int64\n",
            "tax_liens                       138\n",
            "tot_hi_cred_lim               70309\n",
            "total_bal_ex_mort             50063\n",
            "total_bc_limit                50063\n",
            "total_il_high_credit_limit    70309\n",
            "dtype: int64\n",
            "revol_bal_joint             2152681\n",
            "sec_app_fico_range_low      2152680\n",
            "sec_app_fico_range_high     2152680\n",
            "sec_app_earliest_cr_line    2152680\n",
            "sec_app_inq_last_6mths      2152680\n",
            "dtype: int64\n",
            "sec_app_mort_acc         2152680\n",
            "sec_app_open_acc         2152680\n",
            "sec_app_revol_util       2154517\n",
            "sec_app_open_act_il      2152680\n",
            "sec_app_num_rev_accts    2152680\n",
            "dtype: int64\n",
            "sec_app_chargeoff_within_12_mths       2152680\n",
            "sec_app_collections_12_mths_ex_med     2152680\n",
            "sec_app_mths_since_last_major_derog    2224759\n",
            "hardship_flag                               33\n",
            "hardship_type                          2249784\n",
            "dtype: int64\n",
            "hardship_reason        2249784\n",
            "hardship_status        2249784\n",
            "deferral_term          2249784\n",
            "hardship_amount        2249784\n",
            "hardship_start_date    2249784\n",
            "dtype: int64\n",
            "hardship_end_date          2249784\n",
            "payment_plan_start_date    2249784\n",
            "hardship_length            2249784\n",
            "hardship_dpd               2249784\n",
            "hardship_loan_status       2249784\n",
            "dtype: int64\n",
            "orig_projected_additional_accrued_interest    2252050\n",
            "hardship_payoff_balance_amount                2249784\n",
            "hardship_last_payment_amount                  2249784\n",
            "disbursement_method                                33\n",
            "debt_settlement_flag                               33\n",
            "dtype: int64\n",
            "debt_settlement_flag_date    2226455\n",
            "settlement_status            2226455\n",
            "settlement_date              2226455\n",
            "settlement_amount            2226455\n",
            "settlement_percentage        2226455\n",
            "dtype: int64\n",
            "settlement_term    2226455\n",
            "dtype: int64\n"
          ]
        }
      ],
      "source": [
        "column_groups = [list(df.columns[i:i+5]) for i in range(0, len(df.columns),5)]\n",
        "\n",
        "for group in column_groups:\n",
        "    NaNCount = df[group].isna().sum()\n",
        "    print(NaNCount)"
      ]
    },
    {
      "cell_type": "code",
      "execution_count": 19,
      "metadata": {
        "id": "3urQUAlxYrIB"
      },
      "outputs": [],
      "source": [
        "df_new = df.drop([\n",
        "\"member_id\",\n",
        "\"emp_title\",\n",
        "\"desc\",\n",
        "\"mths_since_last_delinq\",\n",
        "\"mths_since_last_record\",\n",
        "\"next_pymnt_d\",\n",
        "\"mths_since_last_major_derog\",\n",
        "\"annual_inc_joint\",\n",
        "\"dti_joint\",\n",
        "\"mths_since_recent_bc_dlq\",\n",
        "\"mths_since_recent_revol_delinq\",\n",
        "\"verification_status_joint\",\n",
        "\"revol_bal_joint\",\n",
        "\"sec_app_fico_range_low\",\n",
        "\"sec_app_fico_range_high\",\n",
        "\"sec_app_earliest_cr_line\",\n",
        "\"sec_app_inq_last_6mths\",\n",
        "\"sec_app_mort_acc\",\n",
        "\"sec_app_open_acc\",\n",
        "\"sec_app_revol_util\",\n",
        "\"sec_app_open_act_il\",\n",
        "\"sec_app_num_rev_accts\",\n",
        "\"sec_app_chargeoff_within_12_mths\",\n",
        "\"sec_app_collections_12_mths_ex_med\",\n",
        "\"sec_app_mths_since_last_major_derog\",\n",
        "\"hardship_type\",      \n",
        "\"hardship_reason\",\n",
        "\"hardship_status\",\n",
        "\"deferral_term\",\n",
        "\"hardship_amount\",\n",
        "\"hardship_start_date\",\n",
        "\"hardship_end_date\",\n",
        "\"payment_plan_start_date\",\n",
        "\"hardship_length\",\n",
        "\"hardship_dpd\",\n",
        "\"hardship_loan_status\",\n",
        "\"orig_projected_additional_accrued_interest\",\n",
        "\"hardship_payoff_balance_amount\",          \n",
        "\"hardship_last_payment_amount\",                \n",
        "\"debt_settlement_flag_date\",\n",
        "\"settlement_status\",\n",
        "\"settlement_date\",\n",
        "\"settlement_amount\",\n",
        "\"settlement_percentage\",\n",
        "\"settlement_term\"], axis=1)"
      ]
    },
    {
      "cell_type": "code",
      "execution_count": 20,
      "metadata": {
        "colab": {
          "base_uri": "https://localhost:8080/",
          "height": 386
        },
        "id": "qLye8OGgyO_B",
        "outputId": "bff7447f-dfd6-4800-bc23-b3fd1c18e435"
      },
      "outputs": [
        {
          "data": {
            "text/html": [
              "<div>\n",
              "<style scoped>\n",
              "    .dataframe tbody tr th:only-of-type {\n",
              "        vertical-align: middle;\n",
              "    }\n",
              "\n",
              "    .dataframe tbody tr th {\n",
              "        vertical-align: top;\n",
              "    }\n",
              "\n",
              "    .dataframe thead th {\n",
              "        text-align: right;\n",
              "    }\n",
              "</style>\n",
              "<table border=\"1\" class=\"dataframe\">\n",
              "  <thead>\n",
              "    <tr style=\"text-align: right;\">\n",
              "      <th></th>\n",
              "      <th>id</th>\n",
              "      <th>loan_amnt</th>\n",
              "      <th>funded_amnt</th>\n",
              "      <th>funded_amnt_inv</th>\n",
              "      <th>term</th>\n",
              "      <th>int_rate</th>\n",
              "      <th>installment</th>\n",
              "      <th>grade</th>\n",
              "      <th>sub_grade</th>\n",
              "      <th>emp_length</th>\n",
              "      <th>...</th>\n",
              "      <th>percent_bc_gt_75</th>\n",
              "      <th>pub_rec_bankruptcies</th>\n",
              "      <th>tax_liens</th>\n",
              "      <th>tot_hi_cred_lim</th>\n",
              "      <th>total_bal_ex_mort</th>\n",
              "      <th>total_bc_limit</th>\n",
              "      <th>total_il_high_credit_limit</th>\n",
              "      <th>hardship_flag</th>\n",
              "      <th>disbursement_method</th>\n",
              "      <th>debt_settlement_flag</th>\n",
              "    </tr>\n",
              "  </thead>\n",
              "  <tbody>\n",
              "    <tr>\n",
              "      <th>0</th>\n",
              "      <td>68407277</td>\n",
              "      <td>3600.0</td>\n",
              "      <td>3600.0</td>\n",
              "      <td>3600.0</td>\n",
              "      <td>36 months</td>\n",
              "      <td>13.99</td>\n",
              "      <td>123.03</td>\n",
              "      <td>C</td>\n",
              "      <td>C4</td>\n",
              "      <td>10+ years</td>\n",
              "      <td>...</td>\n",
              "      <td>0.0</td>\n",
              "      <td>0.0</td>\n",
              "      <td>0.0</td>\n",
              "      <td>178050.0</td>\n",
              "      <td>7746.0</td>\n",
              "      <td>2400.0</td>\n",
              "      <td>13734.0</td>\n",
              "      <td>N</td>\n",
              "      <td>Cash</td>\n",
              "      <td>N</td>\n",
              "    </tr>\n",
              "    <tr>\n",
              "      <th>1</th>\n",
              "      <td>68355089</td>\n",
              "      <td>24700.0</td>\n",
              "      <td>24700.0</td>\n",
              "      <td>24700.0</td>\n",
              "      <td>36 months</td>\n",
              "      <td>11.99</td>\n",
              "      <td>820.28</td>\n",
              "      <td>C</td>\n",
              "      <td>C1</td>\n",
              "      <td>10+ years</td>\n",
              "      <td>...</td>\n",
              "      <td>7.7</td>\n",
              "      <td>0.0</td>\n",
              "      <td>0.0</td>\n",
              "      <td>314017.0</td>\n",
              "      <td>39475.0</td>\n",
              "      <td>79300.0</td>\n",
              "      <td>24667.0</td>\n",
              "      <td>N</td>\n",
              "      <td>Cash</td>\n",
              "      <td>N</td>\n",
              "    </tr>\n",
              "    <tr>\n",
              "      <th>2</th>\n",
              "      <td>68341763</td>\n",
              "      <td>20000.0</td>\n",
              "      <td>20000.0</td>\n",
              "      <td>20000.0</td>\n",
              "      <td>60 months</td>\n",
              "      <td>10.78</td>\n",
              "      <td>432.66</td>\n",
              "      <td>B</td>\n",
              "      <td>B4</td>\n",
              "      <td>10+ years</td>\n",
              "      <td>...</td>\n",
              "      <td>50.0</td>\n",
              "      <td>0.0</td>\n",
              "      <td>0.0</td>\n",
              "      <td>218418.0</td>\n",
              "      <td>18696.0</td>\n",
              "      <td>6200.0</td>\n",
              "      <td>14877.0</td>\n",
              "      <td>N</td>\n",
              "      <td>Cash</td>\n",
              "      <td>N</td>\n",
              "    </tr>\n",
              "    <tr>\n",
              "      <th>3</th>\n",
              "      <td>66310712</td>\n",
              "      <td>35000.0</td>\n",
              "      <td>35000.0</td>\n",
              "      <td>35000.0</td>\n",
              "      <td>60 months</td>\n",
              "      <td>14.85</td>\n",
              "      <td>829.90</td>\n",
              "      <td>C</td>\n",
              "      <td>C5</td>\n",
              "      <td>10+ years</td>\n",
              "      <td>...</td>\n",
              "      <td>0.0</td>\n",
              "      <td>0.0</td>\n",
              "      <td>0.0</td>\n",
              "      <td>381215.0</td>\n",
              "      <td>52226.0</td>\n",
              "      <td>62500.0</td>\n",
              "      <td>18000.0</td>\n",
              "      <td>N</td>\n",
              "      <td>Cash</td>\n",
              "      <td>N</td>\n",
              "    </tr>\n",
              "    <tr>\n",
              "      <th>4</th>\n",
              "      <td>68476807</td>\n",
              "      <td>10400.0</td>\n",
              "      <td>10400.0</td>\n",
              "      <td>10400.0</td>\n",
              "      <td>60 months</td>\n",
              "      <td>22.45</td>\n",
              "      <td>289.91</td>\n",
              "      <td>F</td>\n",
              "      <td>F1</td>\n",
              "      <td>3 years</td>\n",
              "      <td>...</td>\n",
              "      <td>60.0</td>\n",
              "      <td>0.0</td>\n",
              "      <td>0.0</td>\n",
              "      <td>439570.0</td>\n",
              "      <td>95768.0</td>\n",
              "      <td>20300.0</td>\n",
              "      <td>88097.0</td>\n",
              "      <td>N</td>\n",
              "      <td>Cash</td>\n",
              "      <td>N</td>\n",
              "    </tr>\n",
              "  </tbody>\n",
              "</table>\n",
              "<p>5 rows × 106 columns</p>\n",
              "</div>"
            ],
            "text/plain": [
              "         id  loan_amnt  funded_amnt  funded_amnt_inv        term  int_rate  \\\n",
              "0  68407277     3600.0       3600.0           3600.0   36 months     13.99   \n",
              "1  68355089    24700.0      24700.0          24700.0   36 months     11.99   \n",
              "2  68341763    20000.0      20000.0          20000.0   60 months     10.78   \n",
              "3  66310712    35000.0      35000.0          35000.0   60 months     14.85   \n",
              "4  68476807    10400.0      10400.0          10400.0   60 months     22.45   \n",
              "\n",
              "   installment grade sub_grade emp_length  ... percent_bc_gt_75  \\\n",
              "0       123.03     C        C4  10+ years  ...              0.0   \n",
              "1       820.28     C        C1  10+ years  ...              7.7   \n",
              "2       432.66     B        B4  10+ years  ...             50.0   \n",
              "3       829.90     C        C5  10+ years  ...              0.0   \n",
              "4       289.91     F        F1    3 years  ...             60.0   \n",
              "\n",
              "   pub_rec_bankruptcies tax_liens tot_hi_cred_lim total_bal_ex_mort  \\\n",
              "0                   0.0       0.0        178050.0            7746.0   \n",
              "1                   0.0       0.0        314017.0           39475.0   \n",
              "2                   0.0       0.0        218418.0           18696.0   \n",
              "3                   0.0       0.0        381215.0           52226.0   \n",
              "4                   0.0       0.0        439570.0           95768.0   \n",
              "\n",
              "  total_bc_limit total_il_high_credit_limit hardship_flag disbursement_method  \\\n",
              "0         2400.0                    13734.0             N                Cash   \n",
              "1        79300.0                    24667.0             N                Cash   \n",
              "2         6200.0                    14877.0             N                Cash   \n",
              "3        62500.0                    18000.0             N                Cash   \n",
              "4        20300.0                    88097.0             N                Cash   \n",
              "\n",
              "  debt_settlement_flag  \n",
              "0                    N  \n",
              "1                    N  \n",
              "2                    N  \n",
              "3                    N  \n",
              "4                    N  \n",
              "\n",
              "[5 rows x 106 columns]"
            ]
          },
          "execution_count": 20,
          "metadata": {},
          "output_type": "execute_result"
        }
      ],
      "source": [
        "df_new.head()"
      ]
    },
    {
      "cell_type": "code",
      "execution_count": 22,
      "metadata": {
        "id": "m9Dzrkb9Fm1b"
      },
      "outputs": [],
      "source": [
        "df_new.to_csv('/Users/amirsaccount/Desktop/ConcordiaBootcamp/Kaggledataset/my_dataset.csv',index = 'False')"
      ]
    },
    {
      "cell_type": "code",
      "execution_count": 23,
      "metadata": {
        "id": "h3aAgKB3GSIX"
      },
      "outputs": [],
      "source": [
        "# I am doing this to shrink the dataset more and save it into a new csv so if my colab crashes I dont have to reset with\n",
        "# the same gigantic dataset."
      ]
    },
    {
      "cell_type": "code",
      "execution_count": 82,
      "metadata": {
        "id": "xffmkf4sG69W"
      },
      "outputs": [],
      "source": [
        "df_capstone = pd.read_csv('/Users/amirsaccount/Desktop/ConcordiaBootcamp/Kaggledataset/my_dataset.csv')"
      ]
    },
    {
      "cell_type": "code",
      "execution_count": 83,
      "metadata": {
        "colab": {
          "base_uri": "https://localhost:8080/",
          "height": 357
        },
        "id": "BN2MnrToyUii",
        "outputId": "80958e29-f783-4966-9c7f-eacc50dc66f3"
      },
      "outputs": [
        {
          "data": {
            "text/html": [
              "<div>\n",
              "<style scoped>\n",
              "    .dataframe tbody tr th:only-of-type {\n",
              "        vertical-align: middle;\n",
              "    }\n",
              "\n",
              "    .dataframe tbody tr th {\n",
              "        vertical-align: top;\n",
              "    }\n",
              "\n",
              "    .dataframe thead th {\n",
              "        text-align: right;\n",
              "    }\n",
              "</style>\n",
              "<table border=\"1\" class=\"dataframe\">\n",
              "  <thead>\n",
              "    <tr style=\"text-align: right;\">\n",
              "      <th></th>\n",
              "      <th>loan_amnt</th>\n",
              "      <th>emp_length</th>\n",
              "      <th>term</th>\n",
              "      <th>int_rate</th>\n",
              "      <th>installment</th>\n",
              "      <th>funded_amnt</th>\n",
              "      <th>grade</th>\n",
              "      <th>dti</th>\n",
              "      <th>home_ownership</th>\n",
              "      <th>annual_inc</th>\n",
              "      <th>...</th>\n",
              "      <th>loan_status</th>\n",
              "      <th>fico_range_low</th>\n",
              "      <th>fico_range_high</th>\n",
              "      <th>revol_util</th>\n",
              "      <th>total_pymnt</th>\n",
              "      <th>collections_12_mths_ex_med</th>\n",
              "      <th>acc_now_delinq</th>\n",
              "      <th>tot_cur_bal</th>\n",
              "      <th>mort_acc</th>\n",
              "      <th>pub_rec_bankruptcies</th>\n",
              "    </tr>\n",
              "  </thead>\n",
              "  <tbody>\n",
              "    <tr>\n",
              "      <th>0</th>\n",
              "      <td>3600.0</td>\n",
              "      <td>10+ years</td>\n",
              "      <td>36 months</td>\n",
              "      <td>13.99</td>\n",
              "      <td>123.03</td>\n",
              "      <td>3600.0</td>\n",
              "      <td>C</td>\n",
              "      <td>5.91</td>\n",
              "      <td>MORTGAGE</td>\n",
              "      <td>55000.0</td>\n",
              "      <td>...</td>\n",
              "      <td>Fully Paid</td>\n",
              "      <td>675.0</td>\n",
              "      <td>679.0</td>\n",
              "      <td>29.7</td>\n",
              "      <td>4421.723917</td>\n",
              "      <td>0.0</td>\n",
              "      <td>0.0</td>\n",
              "      <td>144904.0</td>\n",
              "      <td>1.0</td>\n",
              "      <td>0.0</td>\n",
              "    </tr>\n",
              "    <tr>\n",
              "      <th>1</th>\n",
              "      <td>24700.0</td>\n",
              "      <td>10+ years</td>\n",
              "      <td>36 months</td>\n",
              "      <td>11.99</td>\n",
              "      <td>820.28</td>\n",
              "      <td>24700.0</td>\n",
              "      <td>C</td>\n",
              "      <td>16.06</td>\n",
              "      <td>MORTGAGE</td>\n",
              "      <td>65000.0</td>\n",
              "      <td>...</td>\n",
              "      <td>Fully Paid</td>\n",
              "      <td>715.0</td>\n",
              "      <td>719.0</td>\n",
              "      <td>19.2</td>\n",
              "      <td>25679.660000</td>\n",
              "      <td>0.0</td>\n",
              "      <td>0.0</td>\n",
              "      <td>204396.0</td>\n",
              "      <td>4.0</td>\n",
              "      <td>0.0</td>\n",
              "    </tr>\n",
              "    <tr>\n",
              "      <th>2</th>\n",
              "      <td>20000.0</td>\n",
              "      <td>10+ years</td>\n",
              "      <td>60 months</td>\n",
              "      <td>10.78</td>\n",
              "      <td>432.66</td>\n",
              "      <td>20000.0</td>\n",
              "      <td>B</td>\n",
              "      <td>10.78</td>\n",
              "      <td>MORTGAGE</td>\n",
              "      <td>63000.0</td>\n",
              "      <td>...</td>\n",
              "      <td>Fully Paid</td>\n",
              "      <td>695.0</td>\n",
              "      <td>699.0</td>\n",
              "      <td>56.2</td>\n",
              "      <td>22705.924294</td>\n",
              "      <td>0.0</td>\n",
              "      <td>0.0</td>\n",
              "      <td>189699.0</td>\n",
              "      <td>5.0</td>\n",
              "      <td>0.0</td>\n",
              "    </tr>\n",
              "    <tr>\n",
              "      <th>3</th>\n",
              "      <td>35000.0</td>\n",
              "      <td>10+ years</td>\n",
              "      <td>60 months</td>\n",
              "      <td>14.85</td>\n",
              "      <td>829.90</td>\n",
              "      <td>35000.0</td>\n",
              "      <td>C</td>\n",
              "      <td>17.06</td>\n",
              "      <td>MORTGAGE</td>\n",
              "      <td>110000.0</td>\n",
              "      <td>...</td>\n",
              "      <td>Current</td>\n",
              "      <td>785.0</td>\n",
              "      <td>789.0</td>\n",
              "      <td>11.6</td>\n",
              "      <td>31464.010000</td>\n",
              "      <td>0.0</td>\n",
              "      <td>0.0</td>\n",
              "      <td>301500.0</td>\n",
              "      <td>1.0</td>\n",
              "      <td>0.0</td>\n",
              "    </tr>\n",
              "    <tr>\n",
              "      <th>4</th>\n",
              "      <td>10400.0</td>\n",
              "      <td>3 years</td>\n",
              "      <td>60 months</td>\n",
              "      <td>22.45</td>\n",
              "      <td>289.91</td>\n",
              "      <td>10400.0</td>\n",
              "      <td>F</td>\n",
              "      <td>25.37</td>\n",
              "      <td>MORTGAGE</td>\n",
              "      <td>104433.0</td>\n",
              "      <td>...</td>\n",
              "      <td>Fully Paid</td>\n",
              "      <td>695.0</td>\n",
              "      <td>699.0</td>\n",
              "      <td>64.5</td>\n",
              "      <td>11740.500000</td>\n",
              "      <td>0.0</td>\n",
              "      <td>0.0</td>\n",
              "      <td>331730.0</td>\n",
              "      <td>6.0</td>\n",
              "      <td>0.0</td>\n",
              "    </tr>\n",
              "  </tbody>\n",
              "</table>\n",
              "<p>5 rows × 25 columns</p>\n",
              "</div>"
            ],
            "text/plain": [
              "   loan_amnt emp_length        term  int_rate  installment  funded_amnt grade  \\\n",
              "0     3600.0  10+ years   36 months     13.99       123.03       3600.0     C   \n",
              "1    24700.0  10+ years   36 months     11.99       820.28      24700.0     C   \n",
              "2    20000.0  10+ years   60 months     10.78       432.66      20000.0     B   \n",
              "3    35000.0  10+ years   60 months     14.85       829.90      35000.0     C   \n",
              "4    10400.0    3 years   60 months     22.45       289.91      10400.0     F   \n",
              "\n",
              "     dti home_ownership  annual_inc  ... loan_status fico_range_low  \\\n",
              "0   5.91       MORTGAGE     55000.0  ...  Fully Paid          675.0   \n",
              "1  16.06       MORTGAGE     65000.0  ...  Fully Paid          715.0   \n",
              "2  10.78       MORTGAGE     63000.0  ...  Fully Paid          695.0   \n",
              "3  17.06       MORTGAGE    110000.0  ...     Current          785.0   \n",
              "4  25.37       MORTGAGE    104433.0  ...  Fully Paid          695.0   \n",
              "\n",
              "   fico_range_high  revol_util   total_pymnt collections_12_mths_ex_med  \\\n",
              "0            679.0        29.7   4421.723917                        0.0   \n",
              "1            719.0        19.2  25679.660000                        0.0   \n",
              "2            699.0        56.2  22705.924294                        0.0   \n",
              "3            789.0        11.6  31464.010000                        0.0   \n",
              "4            699.0        64.5  11740.500000                        0.0   \n",
              "\n",
              "   acc_now_delinq  tot_cur_bal  mort_acc  pub_rec_bankruptcies  \n",
              "0             0.0     144904.0       1.0                   0.0  \n",
              "1             0.0     204396.0       4.0                   0.0  \n",
              "2             0.0     189699.0       5.0                   0.0  \n",
              "3             0.0     301500.0       1.0                   0.0  \n",
              "4             0.0     331730.0       6.0                   0.0  \n",
              "\n",
              "[5 rows x 25 columns]"
            ]
          },
          "execution_count": 83,
          "metadata": {},
          "output_type": "execute_result"
        }
      ],
      "source": [
        "selected_columns = [\n",
        "\n",
        "\"loan_amnt\",\n",
        "\"emp_length\",\n",
        "\"term\",\n",
        "\"int_rate\",\n",
        "\"installment\",\n",
        "\"funded_amnt\",\n",
        "\"grade\",\n",
        "\"dti\", # Debt To Income Ratio: \n",
        "\"home_ownership\",\n",
        "\"annual_inc\",\n",
        "\"verification_status\",\n",
        "\"purpose\",\n",
        "\"all_util\", # All utilization score: Where(1) >30% is bad and (0) <29% is good. \n",
        "\"delinq_2yrs\", # The number of 30+ days past-due incidences of delinquency in the borrower's credit file for the past 2 years\n",
        "\"pub_rec\", # Number of derogatory public records\n",
        "\"loan_status\",\n",
        "\"fico_range_low\", # Find the average between fico_range_low & fico_range_high\n",
        "\"fico_range_high\",\n",
        "\"revol_util\", # Revolving utilization score: Where(1) >30% is bad and (0) <29% is good.\n",
        "\"total_pymnt\",\n",
        "\"collections_12_mths_ex_med\", # Collections since 12 months not including medical debt: Where(1) >1.0 is bad and (0) <1.0 is good. \n",
        "\"acc_now_delinq\",# Delinquent accounts: Where(1) >1.0 is bad and (0) <1.0 is good. \n",
        "\"tot_cur_bal\",\n",
        "\"mort_acc\", # Mortgage Account: Special Formula\n",
        "\"pub_rec_bankruptcies\"] # Public record bankruptcies: Where(1) >1.0 is bad and (0) <1.0 is good. \n",
        "\n",
        "df_data = df_capstone[selected_columns]\n",
        "df_data.head()"
      ]
    },
    {
      "cell_type": "code",
      "execution_count": 84,
      "metadata": {
        "id": "9MCH-QpHxYPu"
      },
      "outputs": [],
      "source": [
        "df_data['fico_range'] = (df_data['fico_range_low'] + df_data['fico_range_high']) / 2\n",
        "df_data = df_data.drop(['fico_range_low', 'fico_range_high'], axis=1)\n",
        "\n",
        "# Personally, I would like to take the average of the customers FICO score rather than their low and high end scores."
      ]
    },
    {
      "cell_type": "code",
      "execution_count": 85,
      "metadata": {
        "id": "7QlzWOWNdvu8"
      },
      "outputs": [],
      "source": [
        "# In the following cells you will see that for \"all_util\", \"revol_util\", and \"dti\"; I took values between 0 to 100%. \n",
        "# The reason being some of these values (in the case of \"dti\") are between -1% to 999% which is mathematically improbable and must likely due to incorrect\n",
        "# entries or lack of data. In other cases, its because in the case of \"util\" better known as \"Utilization\" anything above 100% I have considered outliers \n",
        "# and in the \"loan world\" already having 80% or higher is extremely bad anyways and the odds of having another loan approved is very, very, very unlikely."
      ]
    },
    {
      "cell_type": "code",
      "execution_count": 86,
      "metadata": {
        "id": "zbQJVvRgvuUp"
      },
      "outputs": [],
      "source": [
        "df_data = df_data[df_data['all_util'].between(0, 100)]"
      ]
    },
    {
      "cell_type": "code",
      "execution_count": 87,
      "metadata": {
        "colab": {
          "base_uri": "https://localhost:8080/",
          "height": 472
        },
        "id": "yZ82FSjrt6N1",
        "outputId": "463bcd3f-7c44-4793-a4d9-5cd19b25db16"
      },
      "outputs": [
        {
          "data": {
            "image/png": "[encoded data removed]",
            "text/plain": [
              "<Figure size 640x480 with 1 Axes>"
            ]
          },
          "metadata": {},
          "output_type": "display_data"
        }
      ],
      "source": [
        "df_data.hist(column='all_util', bins=50)\n",
        "\n",
        "plt.title('all_util Distribution')\n",
        "plt.xlabel('all_util')\n",
        "plt.ylabel('Count')\n",
        "\n",
        "plt.show()"
      ]
    },
    {
      "cell_type": "code",
      "execution_count": 88,
      "metadata": {
        "id": "5Mh1T0fq_2-k"
      },
      "outputs": [],
      "source": [
        "def utilization_checker(x):\n",
        "    if pd.isna(x):\n",
        "        return None\n",
        "    rounded_x = round(x)\n",
        "    if rounded_x >= 80:\n",
        "        return \"Extremely Risky\"\n",
        "    elif 60 <= rounded_x <= 79:\n",
        "        return \"Risky\"\n",
        "    elif 31 <= rounded_x <= 59:\n",
        "        return \"Moderate\"\n",
        "    elif rounded_x <= 30:\n",
        "        return \"Safe\"\n",
        "    else:\n",
        "        return None\n",
        "\n",
        "df_data['all_util'] = df_data['all_util'].apply(utilization_checker)"
      ]
    },
    {
      "cell_type": "code",
      "execution_count": 89,
      "metadata": {
        "id": "jsgd1xVpu96M"
      },
      "outputs": [],
      "source": [
        "df_data = df_data[df_data['revol_util'].between(0, 100)]"
      ]
    },
    {
      "cell_type": "code",
      "execution_count": 90,
      "metadata": {
        "colab": {
          "base_uri": "https://localhost:8080/",
          "height": 472
        },
        "id": "OWI0ujhat9UO",
        "outputId": "99190c36-6cb9-4ab8-cf94-d97c1efc95d0"
      },
      "outputs": [
        {
          "data": {
            "image/png": "[encoded data removed]",
            "text/plain": [
              "<Figure size 640x480 with 1 Axes>"
            ]
          },
          "metadata": {},
          "output_type": "display_data"
        }
      ],
      "source": [
        "df_data.hist(column='revol_util', bins=50)\n",
        "\n",
        "plt.title('revol_util Distribution')\n",
        "plt.xlabel('revol_util')\n",
        "plt.ylabel('Count')\n",
        "\n",
        "plt.show()"
      ]
    },
    {
      "cell_type": "code",
      "execution_count": 91,
      "metadata": {
        "id": "WtYfY4tQArgv"
      },
      "outputs": [],
      "source": [
        "def revolving_utilization_checker(x):\n",
        "  if pd.isna(x):\n",
        "    return None\n",
        "  rounded_x = round(x)\n",
        "  if rounded_x >= 80:\n",
        "    return \"Extremely Risky\"\n",
        "  elif 51 <= rounded_x <= 79:\n",
        "        return \"Risky\"\n",
        "  elif 30 <= rounded_x <= 50:\n",
        "        return \"Moderate\"\n",
        "  elif x <= 29:\n",
        "        return \"Safe\"\n",
        "  else:\n",
        "    return None\n",
        "\n",
        "df_data['revol_util'] = df_data['revol_util'].apply(revolving_utilization_checker)"
      ]
    },
    {
      "cell_type": "code",
      "execution_count": 92,
      "metadata": {
        "id": "MH1tlIDY9PzU"
      },
      "outputs": [],
      "source": [
        "df_data = df_data[df_data['dti'].between(0, 100)]"
      ]
    },
    {
      "cell_type": "code",
      "execution_count": 93,
      "metadata": {
        "colab": {
          "base_uri": "https://localhost:8080/",
          "height": 472
        },
        "id": "e05E78uCsF31",
        "outputId": "f039233b-f246-49e0-a25f-1c9f2c85a28c"
      },
      "outputs": [
        {
          "data": {
            "image/png": "[encoded data removed]",
            "text/plain": [
              "<Figure size 640x480 with 1 Axes>"
            ]
          },
          "metadata": {},
          "output_type": "display_data"
        }
      ],
      "source": [
        "df_data.hist(column='dti', bins=50)\n",
        "\n",
        "plt.title('dti Distribution')\n",
        "plt.xlabel('dti')\n",
        "plt.ylabel('Count')\n",
        "\n",
        "plt.show()"
      ]
    },
    {
      "cell_type": "code",
      "execution_count": 94,
      "metadata": {
        "id": "V37hFSLp7w5H"
      },
      "outputs": [],
      "source": [
        "def dti_checker(x):\n",
        "  if pd.isna(x):\n",
        "    return None\n",
        "  rounded_x = round(x)\n",
        "  if rounded_x >= 80:\n",
        "    return \"Extremely Risky\"\n",
        "  elif 40 <= rounded_x <= 79:\n",
        "    return \"Very Risky\"\n",
        "  elif 20 <= rounded_x <= 39:\n",
        "    return \"Moderate\"\n",
        "  elif rounded_x <= 19:\n",
        "    return \"Safe\"\n",
        "  else:\n",
        "      return None\n",
        "\n",
        "df_data['dti'] = df_data['dti'].apply(dti_checker)"
      ]
    },
    {
      "cell_type": "code",
      "execution_count": 96,
      "metadata": {
        "colab": {
          "base_uri": "https://localhost:8080/"
        },
        "id": "_rDMQlnFyUqf",
        "outputId": "4bb64ad4-1824-465f-f743-011c367e169d"
      },
      "outputs": [
        {
          "data": {
            "text/plain": [
              "loan_amnt                         0\n",
              "emp_length                    99816\n",
              "term                              0\n",
              "int_rate                          0\n",
              "installment                       0\n",
              "funded_amnt                       0\n",
              "grade                             0\n",
              "dti                               0\n",
              "home_ownership                    0\n",
              "annual_inc                        0\n",
              "verification_status               0\n",
              "purpose                           0\n",
              "all_util                          0\n",
              "delinq_2yrs                       0\n",
              "pub_rec                           0\n",
              "loan_status                       0\n",
              "revol_util                     7074\n",
              "total_pymnt                       0\n",
              "collections_12_mths_ex_med        0\n",
              "acc_now_delinq                    0\n",
              "tot_cur_bal                       0\n",
              "mort_acc                          0\n",
              "pub_rec_bankruptcies              0\n",
              "fico_range                        0\n",
              "dtype: int64"
            ]
          },
          "execution_count": 96,
          "metadata": {},
          "output_type": "execute_result"
        }
      ],
      "source": [
        "NaNCount = df_data.isna().sum()\n",
        "NaNCount"
      ]
    },
    {
      "cell_type": "code",
      "execution_count": 97,
      "metadata": {
        "id": "xxfVZ186yUtI"
      },
      "outputs": [],
      "source": [
        "df_data = df_data.dropna()"
      ]
    },
    {
      "cell_type": "code",
      "execution_count": 98,
      "metadata": {
        "colab": {
          "base_uri": "https://localhost:8080/"
        },
        "id": "SKS404gBZAui",
        "outputId": "6258d9b1-7908-4474-ef04-2913ecc074cd"
      },
      "outputs": [
        {
          "data": {
            "text/plain": [
              "loan_amnt                     0\n",
              "emp_length                    0\n",
              "term                          0\n",
              "int_rate                      0\n",
              "installment                   0\n",
              "funded_amnt                   0\n",
              "grade                         0\n",
              "dti                           0\n",
              "home_ownership                0\n",
              "annual_inc                    0\n",
              "verification_status           0\n",
              "purpose                       0\n",
              "all_util                      0\n",
              "delinq_2yrs                   0\n",
              "pub_rec                       0\n",
              "loan_status                   0\n",
              "revol_util                    0\n",
              "total_pymnt                   0\n",
              "collections_12_mths_ex_med    0\n",
              "acc_now_delinq                0\n",
              "tot_cur_bal                   0\n",
              "mort_acc                      0\n",
              "pub_rec_bankruptcies          0\n",
              "fico_range                    0\n",
              "dtype: int64"
            ]
          },
          "execution_count": 98,
          "metadata": {},
          "output_type": "execute_result"
        }
      ],
      "source": [
        "NaNCount = df_data.isna().sum()\n",
        "NaNCount"
      ]
    },
    {
      "cell_type": "code",
      "execution_count": 99,
      "metadata": {
        "colab": {
          "base_uri": "https://localhost:8080/"
        },
        "id": "sdIh3GkjZI46",
        "outputId": "85ba3230-d3e7-4062-bf72-1ab84dc3b003"
      },
      "outputs": [
        {
          "data": {
            "text/plain": [
              "loan_amnt                     float64\n",
              "emp_length                     object\n",
              "term                           object\n",
              "int_rate                      float64\n",
              "installment                   float64\n",
              "funded_amnt                   float64\n",
              "grade                          object\n",
              "dti                            object\n",
              "home_ownership                 object\n",
              "annual_inc                    float64\n",
              "verification_status            object\n",
              "purpose                        object\n",
              "all_util                       object\n",
              "delinq_2yrs                   float64\n",
              "pub_rec                       float64\n",
              "loan_status                    object\n",
              "revol_util                     object\n",
              "total_pymnt                   float64\n",
              "collections_12_mths_ex_med    float64\n",
              "acc_now_delinq                float64\n",
              "tot_cur_bal                   float64\n",
              "mort_acc                      float64\n",
              "pub_rec_bankruptcies          float64\n",
              "fico_range                    float64\n",
              "dtype: object"
            ]
          },
          "execution_count": 99,
          "metadata": {},
          "output_type": "execute_result"
        }
      ],
      "source": [
        "df_data.dtypes"
      ]
    },
    {
      "cell_type": "code",
      "execution_count": 100,
      "metadata": {
        "id": "HRvKleb1GjRt"
      },
      "outputs": [],
      "source": [
        "df_data = df_data[(df_data['loan_status'] == 'Fully Paid') | (df_data['loan_status'] == 'Charged Off')]"
      ]
    },
    {
      "cell_type": "code",
      "execution_count": 101,
      "metadata": {
        "id": "nmQuxuDGFXS1"
      },
      "outputs": [],
      "source": [
        "import re"
      ]
    },
    {
      "cell_type": "code",
      "execution_count": 102,
      "metadata": {
        "id": "vsyjidpEEs9e"
      },
      "outputs": [],
      "source": [
        "def employment_length_float(s):\n",
        "    pattern = r'\\d+\\.?\\d*'\n",
        "    matches = re.findall(pattern, s)\n",
        "    if matches:\n",
        "        return float(matches[0])\n",
        "    else:\n",
        "        return None\n",
        "\n",
        "df_data['emp_length'] = df_data['emp_length'].apply(employment_length_float)"
      ]
    },
    {
      "cell_type": "code",
      "execution_count": 103,
      "metadata": {
        "id": "z-SJQnnTHPku"
      },
      "outputs": [],
      "source": [
        "df_data['loan_status'] = df_data['loan_status'].map({'Fully Paid':0,'Charged Off':1})"
      ]
    },
    {
      "cell_type": "code",
      "execution_count": 104,
      "metadata": {
        "colab": {
          "base_uri": "https://localhost:8080/"
        },
        "id": "44Ma-rP4Fkem",
        "outputId": "61dd3b33-622e-49f9-ab2c-9c7078c5d133"
      },
      "outputs": [
        {
          "data": {
            "text/plain": [
              "loan_amnt                     float64\n",
              "emp_length                    float64\n",
              "term                           object\n",
              "int_rate                      float64\n",
              "installment                   float64\n",
              "funded_amnt                   float64\n",
              "grade                          object\n",
              "dti                            object\n",
              "home_ownership                 object\n",
              "annual_inc                    float64\n",
              "verification_status            object\n",
              "purpose                        object\n",
              "all_util                       object\n",
              "delinq_2yrs                   float64\n",
              "pub_rec                       float64\n",
              "loan_status                     int64\n",
              "revol_util                     object\n",
              "total_pymnt                   float64\n",
              "collections_12_mths_ex_med    float64\n",
              "acc_now_delinq                float64\n",
              "tot_cur_bal                   float64\n",
              "mort_acc                      float64\n",
              "pub_rec_bankruptcies          float64\n",
              "fico_range                    float64\n",
              "dtype: object"
            ]
          },
          "execution_count": 104,
          "metadata": {},
          "output_type": "execute_result"
        }
      ],
      "source": [
        "df_data.dtypes"
      ]
    },
    {
      "cell_type": "code",
      "execution_count": 105,
      "metadata": {
        "id": "xTDY37k-ZW_O"
      },
      "outputs": [],
      "source": [
        "# I want to convert all my \"oject\" to \"float64\""
      ]
    },
    {
      "cell_type": "code",
      "execution_count": 106,
      "metadata": {
        "id": "Un8bzX3cZelS"
      },
      "outputs": [],
      "source": [
        "object_cols = df_data.select_dtypes(include=['object']).columns\n",
        "\n",
        "for col in object_cols:\n",
        "    dummy_df = pd.get_dummies(df_data[col], prefix=col)\n",
        "    df_data = pd.concat([df_data, dummy_df], axis=1)\n",
        "\n",
        "df_data.drop(object_cols, axis=1, inplace=True)"
      ]
    },
    {
      "cell_type": "code",
      "execution_count": 107,
      "metadata": {
        "colab": {
          "base_uri": "https://localhost:8080/"
        },
        "id": "I7H5K2-nZenW",
        "outputId": "33109ce0-8a4f-4cca-8298-54c01b6d1dd5"
      },
      "outputs": [
        {
          "name": "stdout",
          "output_type": "stream",
          "text": [
            "<class 'pandas.core.frame.DataFrame'>\n",
            "Int64Index: 489711 entries, 0 to 2260697\n",
            "Data columns (total 58 columns):\n",
            " #   Column                               Non-Null Count   Dtype  \n",
            "---  ------                               --------------   -----  \n",
            " 0   loan_amnt                            489711 non-null  float64\n",
            " 1   emp_length                           489711 non-null  float64\n",
            " 2   int_rate                             489711 non-null  float64\n",
            " 3   installment                          489711 non-null  float64\n",
            " 4   funded_amnt                          489711 non-null  float64\n",
            " 5   annual_inc                           489711 non-null  float64\n",
            " 6   delinq_2yrs                          489711 non-null  float64\n",
            " 7   pub_rec                              489711 non-null  float64\n",
            " 8   loan_status                          489711 non-null  int64  \n",
            " 9   total_pymnt                          489711 non-null  float64\n",
            " 10  collections_12_mths_ex_med           489711 non-null  float64\n",
            " 11  acc_now_delinq                       489711 non-null  float64\n",
            " 12  tot_cur_bal                          489711 non-null  float64\n",
            " 13  mort_acc                             489711 non-null  float64\n",
            " 14  pub_rec_bankruptcies                 489711 non-null  float64\n",
            " 15  fico_range                           489711 non-null  float64\n",
            " 16  term_ 36 months                      489711 non-null  uint8  \n",
            " 17  term_ 60 months                      489711 non-null  uint8  \n",
            " 18  grade_A                              489711 non-null  uint8  \n",
            " 19  grade_B                              489711 non-null  uint8  \n",
            " 20  grade_C                              489711 non-null  uint8  \n",
            " 21  grade_D                              489711 non-null  uint8  \n",
            " 22  grade_E                              489711 non-null  uint8  \n",
            " 23  grade_F                              489711 non-null  uint8  \n",
            " 24  grade_G                              489711 non-null  uint8  \n",
            " 25  dti_Extremely Risky                  489711 non-null  uint8  \n",
            " 26  dti_Moderate                         489711 non-null  uint8  \n",
            " 27  dti_Safe                             489711 non-null  uint8  \n",
            " 28  dti_Very Risky                       489711 non-null  uint8  \n",
            " 29  home_ownership_ANY                   489711 non-null  uint8  \n",
            " 30  home_ownership_MORTGAGE              489711 non-null  uint8  \n",
            " 31  home_ownership_NONE                  489711 non-null  uint8  \n",
            " 32  home_ownership_OWN                   489711 non-null  uint8  \n",
            " 33  home_ownership_RENT                  489711 non-null  uint8  \n",
            " 34  verification_status_Not Verified     489711 non-null  uint8  \n",
            " 35  verification_status_Source Verified  489711 non-null  uint8  \n",
            " 36  verification_status_Verified         489711 non-null  uint8  \n",
            " 37  purpose_car                          489711 non-null  uint8  \n",
            " 38  purpose_credit_card                  489711 non-null  uint8  \n",
            " 39  purpose_debt_consolidation           489711 non-null  uint8  \n",
            " 40  purpose_home_improvement             489711 non-null  uint8  \n",
            " 41  purpose_house                        489711 non-null  uint8  \n",
            " 42  purpose_major_purchase               489711 non-null  uint8  \n",
            " 43  purpose_medical                      489711 non-null  uint8  \n",
            " 44  purpose_moving                       489711 non-null  uint8  \n",
            " 45  purpose_other                        489711 non-null  uint8  \n",
            " 46  purpose_renewable_energy             489711 non-null  uint8  \n",
            " 47  purpose_small_business               489711 non-null  uint8  \n",
            " 48  purpose_vacation                     489711 non-null  uint8  \n",
            " 49  purpose_wedding                      489711 non-null  uint8  \n",
            " 50  all_util_Extremely Risky             489711 non-null  uint8  \n",
            " 51  all_util_Moderate                    489711 non-null  uint8  \n",
            " 52  all_util_Risky                       489711 non-null  uint8  \n",
            " 53  all_util_Safe                        489711 non-null  uint8  \n",
            " 54  revol_util_Extremely Risky           489711 non-null  uint8  \n",
            " 55  revol_util_Moderate                  489711 non-null  uint8  \n",
            " 56  revol_util_Risky                     489711 non-null  uint8  \n",
            " 57  revol_util_Safe                      489711 non-null  uint8  \n",
            "dtypes: float64(15), int64(1), uint8(42)\n",
            "memory usage: 83.1 MB\n"
          ]
        }
      ],
      "source": [
        "df_data.info()"
      ]
    },
    {
      "cell_type": "code",
      "execution_count": 108,
      "metadata": {
        "id": "aHYQ0378bnG9"
      },
      "outputs": [],
      "source": [
        "df_data.columns = df_data.columns.str.replace(' ', '_')"
      ]
    },
    {
      "cell_type": "code",
      "execution_count": 121,
      "metadata": {
        "id": "vbkXsRNhupo_"
      },
      "outputs": [],
      "source": [
        "df_data.to_csv('/Users/amirsaccount/Desktop/ConcordiaBootcamp/my_final_dataset.csv',index = 'False')"
      ]
    },
    {
      "cell_type": "markdown",
      "metadata": {
        "id": "OhHBlaI8jERq"
      },
      "source": [
        "### **The Working DataFrame**"
      ]
    },
    {
      "cell_type": "code",
      "execution_count": 122,
      "metadata": {
        "id": "Uvcl9ddmjkQy"
      },
      "outputs": [],
      "source": [
        "df_final_data = pd.read_csv('/Users/amirsaccount/Desktop/ConcordiaBootcamp/my_final_dataset.csv')\n",
        "del df_final_data['Unnamed: 0']"
      ]
    },
    {
      "cell_type": "code",
      "execution_count": 123,
      "metadata": {
        "colab": {
          "base_uri": "https://localhost:8080/"
        },
        "id": "A-AlWnOEtWWn",
        "outputId": "a2f453ea-0b48-472a-ee6a-f10c60666463"
      },
      "outputs": [
        {
          "data": {
            "text/plain": [
              "(489711, 58)"
            ]
          },
          "execution_count": 123,
          "metadata": {},
          "output_type": "execute_result"
        }
      ],
      "source": [
        "df_final_data.shape"
      ]
    },
    {
      "cell_type": "code",
      "execution_count": 124,
      "metadata": {},
      "outputs": [
        {
          "data": {
            "text/plain": [
              "Index(['loan_amnt', 'emp_length', 'int_rate', 'installment', 'funded_amnt',\n",
              "       'annual_inc', 'delinq_2yrs', 'pub_rec', 'loan_status', 'total_pymnt',\n",
              "       'collections_12_mths_ex_med', 'acc_now_delinq', 'tot_cur_bal',\n",
              "       'mort_acc', 'pub_rec_bankruptcies', 'fico_range', 'term__36_months',\n",
              "       'term__60_months', 'grade_A', 'grade_B', 'grade_C', 'grade_D',\n",
              "       'grade_E', 'grade_F', 'grade_G', 'dti_Extremely_Risky', 'dti_Moderate',\n",
              "       'dti_Safe', 'dti_Very_Risky', 'home_ownership_ANY',\n",
              "       'home_ownership_MORTGAGE', 'home_ownership_NONE', 'home_ownership_OWN',\n",
              "       'home_ownership_RENT', 'verification_status_Not_Verified',\n",
              "       'verification_status_Source_Verified', 'verification_status_Verified',\n",
              "       'purpose_car', 'purpose_credit_card', 'purpose_debt_consolidation',\n",
              "       'purpose_home_improvement', 'purpose_house', 'purpose_major_purchase',\n",
              "       'purpose_medical', 'purpose_moving', 'purpose_other',\n",
              "       'purpose_renewable_energy', 'purpose_small_business',\n",
              "       'purpose_vacation', 'purpose_wedding', 'all_util_Extremely_Risky',\n",
              "       'all_util_Moderate', 'all_util_Risky', 'all_util_Safe',\n",
              "       'revol_util_Extremely_Risky', 'revol_util_Moderate', 'revol_util_Risky',\n",
              "       'revol_util_Safe'],\n",
              "      dtype='object')"
            ]
          },
          "execution_count": 124,
          "metadata": {},
          "output_type": "execute_result"
        }
      ],
      "source": [
        "df_final_data.columns"
      ]
    },
    {
      "cell_type": "markdown",
      "metadata": {
        "id": "nJq6k_r8kgBG"
      },
      "source": [
        "### **The Data Exploration**"
      ]
    },
    {
      "cell_type": "code",
      "execution_count": 125,
      "metadata": {
        "colab": {
          "base_uri": "https://localhost:8080/"
        },
        "id": "lwstvctoksJg",
        "outputId": "495ace44-9923-44b1-a4ba-cf1ba19397ed"
      },
      "outputs": [
        {
          "data": {
            "text/html": [
              "<div>\n",
              "<style scoped>\n",
              "    .dataframe tbody tr th:only-of-type {\n",
              "        vertical-align: middle;\n",
              "    }\n",
              "\n",
              "    .dataframe tbody tr th {\n",
              "        vertical-align: top;\n",
              "    }\n",
              "\n",
              "    .dataframe thead th {\n",
              "        text-align: right;\n",
              "    }\n",
              "</style>\n",
              "<table border=\"1\" class=\"dataframe\">\n",
              "  <thead>\n",
              "    <tr style=\"text-align: right;\">\n",
              "      <th></th>\n",
              "      <th>loan_amnt</th>\n",
              "      <th>emp_length</th>\n",
              "      <th>int_rate</th>\n",
              "      <th>installment</th>\n",
              "      <th>funded_amnt</th>\n",
              "      <th>annual_inc</th>\n",
              "      <th>delinq_2yrs</th>\n",
              "      <th>pub_rec</th>\n",
              "      <th>loan_status</th>\n",
              "      <th>total_pymnt</th>\n",
              "      <th>...</th>\n",
              "      <th>purpose_vacation</th>\n",
              "      <th>purpose_wedding</th>\n",
              "      <th>all_util_Extremely_Risky</th>\n",
              "      <th>all_util_Moderate</th>\n",
              "      <th>all_util_Risky</th>\n",
              "      <th>all_util_Safe</th>\n",
              "      <th>revol_util_Extremely_Risky</th>\n",
              "      <th>revol_util_Moderate</th>\n",
              "      <th>revol_util_Risky</th>\n",
              "      <th>revol_util_Safe</th>\n",
              "    </tr>\n",
              "  </thead>\n",
              "  <tbody>\n",
              "    <tr>\n",
              "      <th>0</th>\n",
              "      <td>3600.0</td>\n",
              "      <td>10.0</td>\n",
              "      <td>13.99</td>\n",
              "      <td>123.03</td>\n",
              "      <td>3600.0</td>\n",
              "      <td>55000.0</td>\n",
              "      <td>0.0</td>\n",
              "      <td>0.0</td>\n",
              "      <td>0</td>\n",
              "      <td>4421.723917</td>\n",
              "      <td>...</td>\n",
              "      <td>0</td>\n",
              "      <td>0</td>\n",
              "      <td>0</td>\n",
              "      <td>1</td>\n",
              "      <td>0</td>\n",
              "      <td>0</td>\n",
              "      <td>0</td>\n",
              "      <td>1</td>\n",
              "      <td>0</td>\n",
              "      <td>0</td>\n",
              "    </tr>\n",
              "    <tr>\n",
              "      <th>1</th>\n",
              "      <td>24700.0</td>\n",
              "      <td>10.0</td>\n",
              "      <td>11.99</td>\n",
              "      <td>820.28</td>\n",
              "      <td>24700.0</td>\n",
              "      <td>65000.0</td>\n",
              "      <td>1.0</td>\n",
              "      <td>0.0</td>\n",
              "      <td>0</td>\n",
              "      <td>25679.660000</td>\n",
              "      <td>...</td>\n",
              "      <td>0</td>\n",
              "      <td>0</td>\n",
              "      <td>0</td>\n",
              "      <td>0</td>\n",
              "      <td>0</td>\n",
              "      <td>1</td>\n",
              "      <td>0</td>\n",
              "      <td>0</td>\n",
              "      <td>0</td>\n",
              "      <td>1</td>\n",
              "    </tr>\n",
              "    <tr>\n",
              "      <th>2</th>\n",
              "      <td>20000.0</td>\n",
              "      <td>10.0</td>\n",
              "      <td>10.78</td>\n",
              "      <td>432.66</td>\n",
              "      <td>20000.0</td>\n",
              "      <td>63000.0</td>\n",
              "      <td>0.0</td>\n",
              "      <td>0.0</td>\n",
              "      <td>0</td>\n",
              "      <td>22705.924294</td>\n",
              "      <td>...</td>\n",
              "      <td>0</td>\n",
              "      <td>0</td>\n",
              "      <td>0</td>\n",
              "      <td>0</td>\n",
              "      <td>1</td>\n",
              "      <td>0</td>\n",
              "      <td>0</td>\n",
              "      <td>0</td>\n",
              "      <td>1</td>\n",
              "      <td>0</td>\n",
              "    </tr>\n",
              "    <tr>\n",
              "      <th>3</th>\n",
              "      <td>10400.0</td>\n",
              "      <td>3.0</td>\n",
              "      <td>22.45</td>\n",
              "      <td>289.91</td>\n",
              "      <td>10400.0</td>\n",
              "      <td>104433.0</td>\n",
              "      <td>1.0</td>\n",
              "      <td>0.0</td>\n",
              "      <td>0</td>\n",
              "      <td>11740.500000</td>\n",
              "      <td>...</td>\n",
              "      <td>0</td>\n",
              "      <td>0</td>\n",
              "      <td>0</td>\n",
              "      <td>0</td>\n",
              "      <td>1</td>\n",
              "      <td>0</td>\n",
              "      <td>0</td>\n",
              "      <td>0</td>\n",
              "      <td>1</td>\n",
              "      <td>0</td>\n",
              "    </tr>\n",
              "    <tr>\n",
              "      <th>4</th>\n",
              "      <td>11950.0</td>\n",
              "      <td>4.0</td>\n",
              "      <td>13.44</td>\n",
              "      <td>405.18</td>\n",
              "      <td>11950.0</td>\n",
              "      <td>34000.0</td>\n",
              "      <td>0.0</td>\n",
              "      <td>0.0</td>\n",
              "      <td>0</td>\n",
              "      <td>13708.948530</td>\n",
              "      <td>...</td>\n",
              "      <td>0</td>\n",
              "      <td>0</td>\n",
              "      <td>0</td>\n",
              "      <td>0</td>\n",
              "      <td>1</td>\n",
              "      <td>0</td>\n",
              "      <td>0</td>\n",
              "      <td>0</td>\n",
              "      <td>1</td>\n",
              "      <td>0</td>\n",
              "    </tr>\n",
              "  </tbody>\n",
              "</table>\n",
              "<p>5 rows × 58 columns</p>\n",
              "</div>"
            ],
            "text/plain": [
              "   loan_amnt  emp_length  int_rate  installment  funded_amnt  annual_inc  \\\n",
              "0     3600.0        10.0     13.99       123.03       3600.0     55000.0   \n",
              "1    24700.0        10.0     11.99       820.28      24700.0     65000.0   \n",
              "2    20000.0        10.0     10.78       432.66      20000.0     63000.0   \n",
              "3    10400.0         3.0     22.45       289.91      10400.0    104433.0   \n",
              "4    11950.0         4.0     13.44       405.18      11950.0     34000.0   \n",
              "\n",
              "   delinq_2yrs  pub_rec  loan_status   total_pymnt  ...  purpose_vacation  \\\n",
              "0          0.0      0.0            0   4421.723917  ...                 0   \n",
              "1          1.0      0.0            0  25679.660000  ...                 0   \n",
              "2          0.0      0.0            0  22705.924294  ...                 0   \n",
              "3          1.0      0.0            0  11740.500000  ...                 0   \n",
              "4          0.0      0.0            0  13708.948530  ...                 0   \n",
              "\n",
              "   purpose_wedding  all_util_Extremely_Risky  all_util_Moderate  \\\n",
              "0                0                         0                  1   \n",
              "1                0                         0                  0   \n",
              "2                0                         0                  0   \n",
              "3                0                         0                  0   \n",
              "4                0                         0                  0   \n",
              "\n",
              "   all_util_Risky  all_util_Safe  revol_util_Extremely_Risky  \\\n",
              "0               0              0                           0   \n",
              "1               0              1                           0   \n",
              "2               1              0                           0   \n",
              "3               1              0                           0   \n",
              "4               1              0                           0   \n",
              "\n",
              "   revol_util_Moderate  revol_util_Risky  revol_util_Safe  \n",
              "0                    1                 0                0  \n",
              "1                    0                 0                1  \n",
              "2                    0                 1                0  \n",
              "3                    0                 1                0  \n",
              "4                    0                 1                0  \n",
              "\n",
              "[5 rows x 58 columns]"
            ]
          },
          "execution_count": 125,
          "metadata": {},
          "output_type": "execute_result"
        }
      ],
      "source": [
        "df_final_data = pd.read_csv('//Users/amirsaccount/Desktop/ConcordiaBootcamp/my_final_dataset.csv')\n",
        "del df_final_data['Unnamed: 0']\n",
        "df_final_data.head()"
      ]
    },
    {
      "cell_type": "code",
      "execution_count": 126,
      "metadata": {
        "colab": {
          "base_uri": "https://localhost:8080/"
        },
        "id": "KDI_AKhfksOp",
        "outputId": "dafe613c-836f-4667-9947-e366b528d907"
      },
      "outputs": [
        {
          "data": {
            "image/png": "[encoded data removed]",
            "text/plain": [
              "<Figure size 640x480 with 1 Axes>"
            ]
          },
          "metadata": {},
          "output_type": "display_data"
        }
      ],
      "source": [
        "x = df_final_data[['fico_range']].values\n",
        "\n",
        "plt.hist(x, bins=20)\n",
        "\n",
        "plt.xlabel('FICO (Fair Isaac Corporation) credit scoring system')\n",
        "plt.ylabel('Number of Borrowers')\n",
        "plt.title('Distribution of Borrowers by Credit Score')\n",
        "\n",
        "plt.show()"
      ]
    },
    {
      "cell_type": "code",
      "execution_count": 127,
      "metadata": {
        "colab": {
          "base_uri": "https://localhost:8080/"
        },
        "id": "ktFp0_mJwouL",
        "outputId": "3f849571-15ed-4f7c-93b4-9f6dd13c8425"
      },
      "outputs": [
        {
          "data": {
            "image/png": "[encoded data removed]",
            "text/plain": [
              "<Figure size 640x480 with 1 Axes>"
            ]
          },
          "metadata": {},
          "output_type": "display_data"
        }
      ],
      "source": [
        "grouped_5 = df_final_data.groupby('fico_range')['int_rate'].mean()\n",
        "\n",
        "plt.plot(grouped_5.index, grouped_5.values)\n",
        "\n",
        "plt.xlabel('FICO Score')\n",
        "plt.ylabel('Average Interest Rate (%)')\n",
        "plt.title('Exploring the Connection between FICO Scores and Interest Rates: A Visual Analysis of Borrower Risk')\n",
        "\n",
        "plt.show()"
      ]
    },
    {
      "cell_type": "code",
      "execution_count": 129,
      "metadata": {
        "colab": {
          "base_uri": "https://localhost:8080/"
        },
        "id": "ehtYnzbHx_fc",
        "outputId": "d214ae8a-c423-4dae-efba-24af8dd4870b"
      },
      "outputs": [
        {
          "data": {
            "image/png": "[encoded data removed]",
            "text/plain": [
              "<Figure size 640x480 with 1 Axes>"
            ]
          },
          "metadata": {},
          "output_type": "display_data"
        }
      ],
      "source": [
        "grouped_8 = df_final_data.groupby('fico_range')[['loan_status']].count()\n",
        "\n",
        "plt.plot(grouped_8.index, grouped_8.values)\n",
        "\n",
        "plt.xlabel('FICO Score')\n",
        "plt.ylabel(\"Number of Borrower's Charged Off By Lender\")\n",
        "plt.title('Analyzing Lender Risk: A Comparison of Charged-Off Borrowers Across Different FICO Scores')\n",
        "\n",
        "plt.show()"
      ]
    },
    {
      "cell_type": "code",
      "execution_count": 130,
      "metadata": {
        "colab": {
          "base_uri": "https://localhost:8080/"
        },
        "id": "lGmAtdZZDah8",
        "outputId": "45fbb5b6-3a9d-4737-bc06-5ba24ab7e579"
      },
      "outputs": [
        {
          "data": {
            "image/png": "[encoded data removed]",
            "text/plain": [
              "<Figure size 640x480 with 1 Axes>"
            ]
          },
          "metadata": {},
          "output_type": "display_data"
        }
      ],
      "source": [
        "grouped_10 = df_final_data[df_final_data['loan_status'] == 1].groupby('loan_status')[['purpose_credit_card', 'purpose_debt_consolidation', 'purpose_home_improvement', 'purpose_other']].sum()\n",
        "\n",
        "\n",
        "grouped_10.plot.bar()\n",
        "plt.xlabel('Customers Charged Off')\n",
        "plt.ylabel('Number of Borrowers by Purpose of Loan Application')\n",
        "plt.xticks([1], [''])\n",
        "plt.title('Comparing the Purpose of Loan Applications and Loan Status: A Visual Analysis of Charged-Off and Non-Charged-Off Loans')\n",
        "plt.show()"
      ]
    },
    {
      "cell_type": "code",
      "execution_count": 131,
      "metadata": {
        "colab": {
          "base_uri": "https://localhost:8080/"
        },
        "id": "Pw4Zdn5z0H0B",
        "outputId": "6ec25544-0bfd-458a-9824-7e1cb6f50752"
      },
      "outputs": [
        {
          "data": {
            "image/png": "[encoded data removed]",
            "text/plain": [
              "<Figure size 640x480 with 1 Axes>"
            ]
          },
          "metadata": {},
          "output_type": "display_data"
        }
      ],
      "source": [
        "grouped_9 = df_final_data[df_final_data['loan_status'] == 1].groupby('loan_status')[['home_ownership_MORTGAGE', 'home_ownership_OWN', 'home_ownership_RENT']].sum()\n",
        "\n",
        "\n",
        "grouped_9.plot.bar()\n",
        "plt.xlabel('Customers Charged Off')\n",
        "plt.ylabel('Sum Of Homeownership Type')\n",
        "plt.xticks([1], [''])\n",
        "plt.title('Homeownership and Loan Status: A Comparison of Charged-Off Loans and Vice Versa')\n",
        "plt.show()"
      ]
    },
    {
      "cell_type": "code",
      "execution_count": 132,
      "metadata": {
        "colab": {
          "base_uri": "https://localhost:8080/"
        },
        "id": "26rqtOvwEcnL",
        "outputId": "04d4364b-ecc5-47e8-e06d-ff2d6c90ebad"
      },
      "outputs": [
        {
          "data": {
            "image/png": "[encoded data removed]",
            "text/plain": [
              "<Figure size 640x480 with 1 Axes>"
            ]
          },
          "metadata": {},
          "output_type": "display_data"
        }
      ],
      "source": [
        "grouped_11 = df_final_data[df_final_data['loan_status'] == 1].groupby('loan_status')[['grade_A', 'grade_B', 'grade_C', 'grade_D', 'grade_E', 'grade_F', 'grade_G']].sum()\n",
        "\n",
        "grouped_11.plot.bar()\n",
        "plt.xlabel('Customers Charged Off')\n",
        "plt.ylabel(\"Number of Borrowers Loan Grades\")\n",
        "plt.xticks([1], [''])\n",
        "plt.title(\"Comparing Borrowers Loan Grade and Loan Status\")\n",
        "plt.show()"
      ]
    },
    {
      "cell_type": "code",
      "execution_count": 133,
      "metadata": {
        "id": "V2IYDioAngYf"
      },
      "outputs": [],
      "source": [
        "# https://www.opploans.com/oppu/articles/grading-your-credit-score/#:~:text=Grade%20A,everyone%20should%20be%20striving%20for."
      ]
    },
    {
      "cell_type": "code",
      "execution_count": 134,
      "metadata": {
        "id": "9ep_u3lGL1ir"
      },
      "outputs": [],
      "source": [
        "Salary_ranges = [0, 25000, 50000, 75000, 100000, 150000, 200000, 250000, 300000, 350000, 400000, 500000, np.inf]\n",
        "df_final_data['income_bin'] = pd.cut(df_final_data['annual_inc'], bins = Salary_ranges)"
      ]
    },
    {
      "cell_type": "code",
      "execution_count": 135,
      "metadata": {
        "colab": {
          "base_uri": "https://localhost:8080/"
        },
        "id": "Sx-vCfSd3BbO",
        "outputId": "df401ede-4bf0-4833-dd96-74a2d8b65b24"
      },
      "outputs": [
        {
          "data": {
            "image/png": "[encoded data removed]",
            "text/plain": [
              "<Figure size 640x480 with 1 Axes>"
            ]
          },
          "metadata": {},
          "output_type": "display_data"
        }
      ],
      "source": [
        "grouped_11 = df_final_data.groupby('income_bin')['int_rate'].mean()\n",
        "\n",
        "plt.bar(grouped_11.index.astype(str), grouped_11.values)\n",
        "plt.xticks(rotation=90)\n",
        "plt.xlabel('Annual Income Bracket')\n",
        "plt.ylabel('Average Interest Rate (%)')\n",
        "plt.title('Relationship between Interest Rates and Annual Income Brackets')\n",
        "plt.tight_layout()\n",
        "plt.show()"
      ]
    },
    {
      "cell_type": "code",
      "execution_count": 136,
      "metadata": {
        "colab": {
          "base_uri": "https://localhost:8080/"
        },
        "id": "LfZorKbgKsZ7",
        "outputId": "e8963a3b-0b71-4bbd-f1b0-650d61a3eb97"
      },
      "outputs": [
        {
          "data": {
            "image/png": "[encoded data removed]",
            "text/plain": [
              "<Figure size 640x480 with 1 Axes>"
            ]
          },
          "metadata": {},
          "output_type": "display_data"
        }
      ],
      "source": [
        "grouped_12 = df_final_data[df_final_data['loan_status']==1].groupby('income_bin')['loan_status'].sum()\n",
        "\n",
        "plt.bar(grouped_12.index.astype(str), grouped_12.values)\n",
        "plt.xticks(rotation=90)\n",
        "plt.xlabel('Annual Income Bracket')\n",
        "plt.ylabel('Number of Charge Offs')\n",
        "plt.title('Relationship between Number of Charge Offs and Annual Income Brackets')\n",
        "plt.tight_layout()\n",
        "plt.show()"
      ]
    },
    {
      "cell_type": "code",
      "execution_count": 137,
      "metadata": {
        "colab": {
          "base_uri": "https://localhost:8080/"
        },
        "id": "fN2xjURDLhK_",
        "outputId": "6014ca1d-be1f-43ac-99bf-d99f56f413bb"
      },
      "outputs": [
        {
          "name": "stdout",
          "output_type": "stream",
          "text": [
            "loan_status\n",
            "0    363.79\n",
            "1    424.07\n",
            "Name: installment, dtype: float64\n"
          ]
        }
      ],
      "source": [
        "grouped_13 = df_final_data.groupby('loan_status')['installment'].median()\n",
        "print(grouped_13)"
      ]
    },
    {
      "cell_type": "code",
      "execution_count": 138,
      "metadata": {
        "colab": {
          "base_uri": "https://localhost:8080/"
        },
        "id": "finjCkDms58r",
        "outputId": "aaeb3870-c934-42c6-b853-ce1b1a807854"
      },
      "outputs": [
        {
          "name": "stdout",
          "output_type": "stream",
          "text": [
            "             term__36_months  term__60_months\n",
            "loan_status                                  \n",
            "1                      69022            37126\n"
          ]
        },
        {
          "data": {
            "image/png": "[encoded data removed]",
            "text/plain": [
              "<Figure size 640x480 with 1 Axes>"
            ]
          },
          "metadata": {},
          "output_type": "display_data"
        }
      ],
      "source": [
        "grouped_7 = df_final_data[df_final_data['loan_status']==1].groupby('loan_status')[['term__36_months', 'term__60_months']].sum()\n",
        "print(grouped_7)\n",
        "\n",
        "grouped_7.plot.bar()\n",
        "plt.xlabel('Customer Charged Off')\n",
        "plt.ylabel('Sum of Loan Term')\n",
        "plt.xticks([1], [''])\n",
        "plt.title('How Long-Term Loans Could Potentially Reduce Risk Of Charge Off')\n",
        "plt.show()"
      ]
    },
    {
      "cell_type": "markdown",
      "metadata": {
        "id": "YyZXVGSL_tGQ"
      },
      "source": [
        "# **Model**"
      ]
    },
    {
      "cell_type": "markdown",
      "metadata": {
        "id": "aG5HPYd4ePkN"
      },
      "source": [
        "### **The ANN Model**"
      ]
    },
    {
      "cell_type": "code",
      "execution_count": 141,
      "metadata": {
        "colab": {
          "base_uri": "https://localhost:8080/",
          "height": 0
        },
        "id": "HC3a9EBSeSQC",
        "outputId": "4107941b-c894-4a62-b204-8a1dc4562662"
      },
      "outputs": [
        {
          "data": {
            "text/html": [
              "<div>\n",
              "<style scoped>\n",
              "    .dataframe tbody tr th:only-of-type {\n",
              "        vertical-align: middle;\n",
              "    }\n",
              "\n",
              "    .dataframe tbody tr th {\n",
              "        vertical-align: top;\n",
              "    }\n",
              "\n",
              "    .dataframe thead th {\n",
              "        text-align: right;\n",
              "    }\n",
              "</style>\n",
              "<table border=\"1\" class=\"dataframe\">\n",
              "  <thead>\n",
              "    <tr style=\"text-align: right;\">\n",
              "      <th></th>\n",
              "      <th>loan_amnt</th>\n",
              "      <th>emp_length</th>\n",
              "      <th>int_rate</th>\n",
              "      <th>installment</th>\n",
              "      <th>funded_amnt</th>\n",
              "      <th>annual_inc</th>\n",
              "      <th>delinq_2yrs</th>\n",
              "      <th>pub_rec</th>\n",
              "      <th>loan_status</th>\n",
              "      <th>total_pymnt</th>\n",
              "      <th>collections_12_mths_ex_med</th>\n",
              "      <th>acc_now_delinq</th>\n",
              "      <th>tot_cur_bal</th>\n",
              "      <th>mort_acc</th>\n",
              "      <th>pub_rec_bankruptcies</th>\n",
              "      <th>fico_range</th>\n",
              "      <th>term__36_months</th>\n",
              "      <th>term__60_months</th>\n",
              "      <th>grade_A</th>\n",
              "      <th>grade_B</th>\n",
              "      <th>grade_C</th>\n",
              "      <th>grade_D</th>\n",
              "      <th>grade_E</th>\n",
              "      <th>grade_F</th>\n",
              "      <th>grade_G</th>\n",
              "      <th>dti_Extremely_Risky</th>\n",
              "      <th>dti_Moderate</th>\n",
              "      <th>dti_Safe</th>\n",
              "      <th>dti_Very_Risky</th>\n",
              "      <th>home_ownership_ANY</th>\n",
              "      <th>home_ownership_MORTGAGE</th>\n",
              "      <th>home_ownership_NONE</th>\n",
              "      <th>home_ownership_OWN</th>\n",
              "      <th>home_ownership_RENT</th>\n",
              "      <th>verification_status_Not_Verified</th>\n",
              "      <th>verification_status_Source_Verified</th>\n",
              "      <th>verification_status_Verified</th>\n",
              "      <th>purpose_car</th>\n",
              "      <th>purpose_credit_card</th>\n",
              "      <th>purpose_debt_consolidation</th>\n",
              "      <th>purpose_home_improvement</th>\n",
              "      <th>purpose_house</th>\n",
              "      <th>purpose_major_purchase</th>\n",
              "      <th>purpose_medical</th>\n",
              "      <th>purpose_moving</th>\n",
              "      <th>purpose_other</th>\n",
              "      <th>purpose_renewable_energy</th>\n",
              "      <th>purpose_small_business</th>\n",
              "      <th>purpose_vacation</th>\n",
              "      <th>purpose_wedding</th>\n",
              "      <th>all_util_Extremely_Risky</th>\n",
              "      <th>all_util_Moderate</th>\n",
              "      <th>all_util_Risky</th>\n",
              "      <th>all_util_Safe</th>\n",
              "      <th>revol_util_Extremely_Risky</th>\n",
              "      <th>revol_util_Moderate</th>\n",
              "      <th>revol_util_Risky</th>\n",
              "      <th>revol_util_Safe</th>\n",
              "    </tr>\n",
              "  </thead>\n",
              "  <tbody>\n",
              "    <tr>\n",
              "      <th>0</th>\n",
              "      <td>3600.0</td>\n",
              "      <td>10.0</td>\n",
              "      <td>13.99</td>\n",
              "      <td>123.03</td>\n",
              "      <td>3600.0</td>\n",
              "      <td>55000.0</td>\n",
              "      <td>0.0</td>\n",
              "      <td>0.0</td>\n",
              "      <td>0</td>\n",
              "      <td>4421.723917</td>\n",
              "      <td>0.0</td>\n",
              "      <td>0.0</td>\n",
              "      <td>144904.0</td>\n",
              "      <td>1.0</td>\n",
              "      <td>0.0</td>\n",
              "      <td>677.0</td>\n",
              "      <td>1</td>\n",
              "      <td>0</td>\n",
              "      <td>0</td>\n",
              "      <td>0</td>\n",
              "      <td>1</td>\n",
              "      <td>0</td>\n",
              "      <td>0</td>\n",
              "      <td>0</td>\n",
              "      <td>0</td>\n",
              "      <td>0</td>\n",
              "      <td>0</td>\n",
              "      <td>1</td>\n",
              "      <td>0</td>\n",
              "      <td>0</td>\n",
              "      <td>1</td>\n",
              "      <td>0</td>\n",
              "      <td>0</td>\n",
              "      <td>0</td>\n",
              "      <td>1</td>\n",
              "      <td>0</td>\n",
              "      <td>0</td>\n",
              "      <td>0</td>\n",
              "      <td>0</td>\n",
              "      <td>1</td>\n",
              "      <td>0</td>\n",
              "      <td>0</td>\n",
              "      <td>0</td>\n",
              "      <td>0</td>\n",
              "      <td>0</td>\n",
              "      <td>0</td>\n",
              "      <td>0</td>\n",
              "      <td>0</td>\n",
              "      <td>0</td>\n",
              "      <td>0</td>\n",
              "      <td>0</td>\n",
              "      <td>1</td>\n",
              "      <td>0</td>\n",
              "      <td>0</td>\n",
              "      <td>0</td>\n",
              "      <td>1</td>\n",
              "      <td>0</td>\n",
              "      <td>0</td>\n",
              "    </tr>\n",
              "    <tr>\n",
              "      <th>1</th>\n",
              "      <td>24700.0</td>\n",
              "      <td>10.0</td>\n",
              "      <td>11.99</td>\n",
              "      <td>820.28</td>\n",
              "      <td>24700.0</td>\n",
              "      <td>65000.0</td>\n",
              "      <td>1.0</td>\n",
              "      <td>0.0</td>\n",
              "      <td>0</td>\n",
              "      <td>25679.660000</td>\n",
              "      <td>0.0</td>\n",
              "      <td>0.0</td>\n",
              "      <td>204396.0</td>\n",
              "      <td>4.0</td>\n",
              "      <td>0.0</td>\n",
              "      <td>717.0</td>\n",
              "      <td>1</td>\n",
              "      <td>0</td>\n",
              "      <td>0</td>\n",
              "      <td>0</td>\n",
              "      <td>1</td>\n",
              "      <td>0</td>\n",
              "      <td>0</td>\n",
              "      <td>0</td>\n",
              "      <td>0</td>\n",
              "      <td>0</td>\n",
              "      <td>0</td>\n",
              "      <td>1</td>\n",
              "      <td>0</td>\n",
              "      <td>0</td>\n",
              "      <td>1</td>\n",
              "      <td>0</td>\n",
              "      <td>0</td>\n",
              "      <td>0</td>\n",
              "      <td>1</td>\n",
              "      <td>0</td>\n",
              "      <td>0</td>\n",
              "      <td>0</td>\n",
              "      <td>0</td>\n",
              "      <td>0</td>\n",
              "      <td>0</td>\n",
              "      <td>0</td>\n",
              "      <td>0</td>\n",
              "      <td>0</td>\n",
              "      <td>0</td>\n",
              "      <td>0</td>\n",
              "      <td>0</td>\n",
              "      <td>1</td>\n",
              "      <td>0</td>\n",
              "      <td>0</td>\n",
              "      <td>0</td>\n",
              "      <td>0</td>\n",
              "      <td>0</td>\n",
              "      <td>1</td>\n",
              "      <td>0</td>\n",
              "      <td>0</td>\n",
              "      <td>0</td>\n",
              "      <td>1</td>\n",
              "    </tr>\n",
              "    <tr>\n",
              "      <th>2</th>\n",
              "      <td>20000.0</td>\n",
              "      <td>10.0</td>\n",
              "      <td>10.78</td>\n",
              "      <td>432.66</td>\n",
              "      <td>20000.0</td>\n",
              "      <td>63000.0</td>\n",
              "      <td>0.0</td>\n",
              "      <td>0.0</td>\n",
              "      <td>0</td>\n",
              "      <td>22705.924294</td>\n",
              "      <td>0.0</td>\n",
              "      <td>0.0</td>\n",
              "      <td>189699.0</td>\n",
              "      <td>5.0</td>\n",
              "      <td>0.0</td>\n",
              "      <td>697.0</td>\n",
              "      <td>0</td>\n",
              "      <td>1</td>\n",
              "      <td>0</td>\n",
              "      <td>1</td>\n",
              "      <td>0</td>\n",
              "      <td>0</td>\n",
              "      <td>0</td>\n",
              "      <td>0</td>\n",
              "      <td>0</td>\n",
              "      <td>0</td>\n",
              "      <td>0</td>\n",
              "      <td>1</td>\n",
              "      <td>0</td>\n",
              "      <td>0</td>\n",
              "      <td>1</td>\n",
              "      <td>0</td>\n",
              "      <td>0</td>\n",
              "      <td>0</td>\n",
              "      <td>1</td>\n",
              "      <td>0</td>\n",
              "      <td>0</td>\n",
              "      <td>0</td>\n",
              "      <td>0</td>\n",
              "      <td>0</td>\n",
              "      <td>1</td>\n",
              "      <td>0</td>\n",
              "      <td>0</td>\n",
              "      <td>0</td>\n",
              "      <td>0</td>\n",
              "      <td>0</td>\n",
              "      <td>0</td>\n",
              "      <td>0</td>\n",
              "      <td>0</td>\n",
              "      <td>0</td>\n",
              "      <td>0</td>\n",
              "      <td>0</td>\n",
              "      <td>1</td>\n",
              "      <td>0</td>\n",
              "      <td>0</td>\n",
              "      <td>0</td>\n",
              "      <td>1</td>\n",
              "      <td>0</td>\n",
              "    </tr>\n",
              "    <tr>\n",
              "      <th>3</th>\n",
              "      <td>10400.0</td>\n",
              "      <td>3.0</td>\n",
              "      <td>22.45</td>\n",
              "      <td>289.91</td>\n",
              "      <td>10400.0</td>\n",
              "      <td>104433.0</td>\n",
              "      <td>1.0</td>\n",
              "      <td>0.0</td>\n",
              "      <td>0</td>\n",
              "      <td>11740.500000</td>\n",
              "      <td>0.0</td>\n",
              "      <td>0.0</td>\n",
              "      <td>331730.0</td>\n",
              "      <td>6.0</td>\n",
              "      <td>0.0</td>\n",
              "      <td>697.0</td>\n",
              "      <td>0</td>\n",
              "      <td>1</td>\n",
              "      <td>0</td>\n",
              "      <td>0</td>\n",
              "      <td>0</td>\n",
              "      <td>0</td>\n",
              "      <td>0</td>\n",
              "      <td>1</td>\n",
              "      <td>0</td>\n",
              "      <td>0</td>\n",
              "      <td>1</td>\n",
              "      <td>0</td>\n",
              "      <td>0</td>\n",
              "      <td>0</td>\n",
              "      <td>1</td>\n",
              "      <td>0</td>\n",
              "      <td>0</td>\n",
              "      <td>0</td>\n",
              "      <td>0</td>\n",
              "      <td>1</td>\n",
              "      <td>0</td>\n",
              "      <td>0</td>\n",
              "      <td>0</td>\n",
              "      <td>0</td>\n",
              "      <td>0</td>\n",
              "      <td>0</td>\n",
              "      <td>1</td>\n",
              "      <td>0</td>\n",
              "      <td>0</td>\n",
              "      <td>0</td>\n",
              "      <td>0</td>\n",
              "      <td>0</td>\n",
              "      <td>0</td>\n",
              "      <td>0</td>\n",
              "      <td>0</td>\n",
              "      <td>0</td>\n",
              "      <td>1</td>\n",
              "      <td>0</td>\n",
              "      <td>0</td>\n",
              "      <td>0</td>\n",
              "      <td>1</td>\n",
              "      <td>0</td>\n",
              "    </tr>\n",
              "    <tr>\n",
              "      <th>4</th>\n",
              "      <td>11950.0</td>\n",
              "      <td>4.0</td>\n",
              "      <td>13.44</td>\n",
              "      <td>405.18</td>\n",
              "      <td>11950.0</td>\n",
              "      <td>34000.0</td>\n",
              "      <td>0.0</td>\n",
              "      <td>0.0</td>\n",
              "      <td>0</td>\n",
              "      <td>13708.948530</td>\n",
              "      <td>0.0</td>\n",
              "      <td>0.0</td>\n",
              "      <td>12798.0</td>\n",
              "      <td>0.0</td>\n",
              "      <td>0.0</td>\n",
              "      <td>692.0</td>\n",
              "      <td>1</td>\n",
              "      <td>0</td>\n",
              "      <td>0</td>\n",
              "      <td>0</td>\n",
              "      <td>1</td>\n",
              "      <td>0</td>\n",
              "      <td>0</td>\n",
              "      <td>0</td>\n",
              "      <td>0</td>\n",
              "      <td>0</td>\n",
              "      <td>0</td>\n",
              "      <td>1</td>\n",
              "      <td>0</td>\n",
              "      <td>0</td>\n",
              "      <td>0</td>\n",
              "      <td>0</td>\n",
              "      <td>0</td>\n",
              "      <td>1</td>\n",
              "      <td>0</td>\n",
              "      <td>1</td>\n",
              "      <td>0</td>\n",
              "      <td>0</td>\n",
              "      <td>0</td>\n",
              "      <td>1</td>\n",
              "      <td>0</td>\n",
              "      <td>0</td>\n",
              "      <td>0</td>\n",
              "      <td>0</td>\n",
              "      <td>0</td>\n",
              "      <td>0</td>\n",
              "      <td>0</td>\n",
              "      <td>0</td>\n",
              "      <td>0</td>\n",
              "      <td>0</td>\n",
              "      <td>0</td>\n",
              "      <td>0</td>\n",
              "      <td>1</td>\n",
              "      <td>0</td>\n",
              "      <td>0</td>\n",
              "      <td>0</td>\n",
              "      <td>1</td>\n",
              "      <td>0</td>\n",
              "    </tr>\n",
              "  </tbody>\n",
              "</table>\n",
              "</div>"
            ],
            "text/plain": [
              "   loan_amnt  emp_length  int_rate  installment  funded_amnt  annual_inc  \\\n",
              "0     3600.0        10.0     13.99       123.03       3600.0     55000.0   \n",
              "1    24700.0        10.0     11.99       820.28      24700.0     65000.0   \n",
              "2    20000.0        10.0     10.78       432.66      20000.0     63000.0   \n",
              "3    10400.0         3.0     22.45       289.91      10400.0    104433.0   \n",
              "4    11950.0         4.0     13.44       405.18      11950.0     34000.0   \n",
              "\n",
              "   delinq_2yrs  pub_rec  loan_status   total_pymnt  \\\n",
              "0          0.0      0.0            0   4421.723917   \n",
              "1          1.0      0.0            0  25679.660000   \n",
              "2          0.0      0.0            0  22705.924294   \n",
              "3          1.0      0.0            0  11740.500000   \n",
              "4          0.0      0.0            0  13708.948530   \n",
              "\n",
              "   collections_12_mths_ex_med  acc_now_delinq  tot_cur_bal  mort_acc  \\\n",
              "0                         0.0             0.0     144904.0       1.0   \n",
              "1                         0.0             0.0     204396.0       4.0   \n",
              "2                         0.0             0.0     189699.0       5.0   \n",
              "3                         0.0             0.0     331730.0       6.0   \n",
              "4                         0.0             0.0      12798.0       0.0   \n",
              "\n",
              "   pub_rec_bankruptcies  fico_range  term__36_months  term__60_months  \\\n",
              "0                   0.0       677.0                1                0   \n",
              "1                   0.0       717.0                1                0   \n",
              "2                   0.0       697.0                0                1   \n",
              "3                   0.0       697.0                0                1   \n",
              "4                   0.0       692.0                1                0   \n",
              "\n",
              "   grade_A  grade_B  grade_C  grade_D  grade_E  grade_F  grade_G  \\\n",
              "0        0        0        1        0        0        0        0   \n",
              "1        0        0        1        0        0        0        0   \n",
              "2        0        1        0        0        0        0        0   \n",
              "3        0        0        0        0        0        1        0   \n",
              "4        0        0        1        0        0        0        0   \n",
              "\n",
              "   dti_Extremely_Risky  dti_Moderate  dti_Safe  dti_Very_Risky  \\\n",
              "0                    0             0         1               0   \n",
              "1                    0             0         1               0   \n",
              "2                    0             0         1               0   \n",
              "3                    0             1         0               0   \n",
              "4                    0             0         1               0   \n",
              "\n",
              "   home_ownership_ANY  home_ownership_MORTGAGE  home_ownership_NONE  \\\n",
              "0                   0                        1                    0   \n",
              "1                   0                        1                    0   \n",
              "2                   0                        1                    0   \n",
              "3                   0                        1                    0   \n",
              "4                   0                        0                    0   \n",
              "\n",
              "   home_ownership_OWN  home_ownership_RENT  verification_status_Not_Verified  \\\n",
              "0                   0                    0                                 1   \n",
              "1                   0                    0                                 1   \n",
              "2                   0                    0                                 1   \n",
              "3                   0                    0                                 0   \n",
              "4                   0                    1                                 0   \n",
              "\n",
              "   verification_status_Source_Verified  verification_status_Verified  \\\n",
              "0                                    0                             0   \n",
              "1                                    0                             0   \n",
              "2                                    0                             0   \n",
              "3                                    1                             0   \n",
              "4                                    1                             0   \n",
              "\n",
              "   purpose_car  purpose_credit_card  purpose_debt_consolidation  \\\n",
              "0            0                    0                           1   \n",
              "1            0                    0                           0   \n",
              "2            0                    0                           0   \n",
              "3            0                    0                           0   \n",
              "4            0                    0                           1   \n",
              "\n",
              "   purpose_home_improvement  purpose_house  purpose_major_purchase  \\\n",
              "0                         0              0                       0   \n",
              "1                         0              0                       0   \n",
              "2                         1              0                       0   \n",
              "3                         0              0                       1   \n",
              "4                         0              0                       0   \n",
              "\n",
              "   purpose_medical  purpose_moving  purpose_other  purpose_renewable_energy  \\\n",
              "0                0               0              0                         0   \n",
              "1                0               0              0                         0   \n",
              "2                0               0              0                         0   \n",
              "3                0               0              0                         0   \n",
              "4                0               0              0                         0   \n",
              "\n",
              "   purpose_small_business  purpose_vacation  purpose_wedding  \\\n",
              "0                       0                 0                0   \n",
              "1                       1                 0                0   \n",
              "2                       0                 0                0   \n",
              "3                       0                 0                0   \n",
              "4                       0                 0                0   \n",
              "\n",
              "   all_util_Extremely_Risky  all_util_Moderate  all_util_Risky  all_util_Safe  \\\n",
              "0                         0                  1               0              0   \n",
              "1                         0                  0               0              1   \n",
              "2                         0                  0               1              0   \n",
              "3                         0                  0               1              0   \n",
              "4                         0                  0               1              0   \n",
              "\n",
              "   revol_util_Extremely_Risky  revol_util_Moderate  revol_util_Risky  \\\n",
              "0                           0                    1                 0   \n",
              "1                           0                    0                 0   \n",
              "2                           0                    0                 1   \n",
              "3                           0                    0                 1   \n",
              "4                           0                    0                 1   \n",
              "\n",
              "   revol_util_Safe  \n",
              "0                0  \n",
              "1                1  \n",
              "2                0  \n",
              "3                0  \n",
              "4                0  "
            ]
          },
          "execution_count": 141,
          "metadata": {},
          "output_type": "execute_result"
        }
      ],
      "source": [
        "df_final_data = pd.read_csv('/Users/amirsaccount/Desktop/ConcordiaBootcamp/my_final_dataset.csv')\n",
        "del df_final_data['Unnamed: 0']\n",
        "pd.set_option(\"display.max_columns\", None)\n",
        "df_final_data.head()"
      ]
    },
    {
      "cell_type": "code",
      "execution_count": 142,
      "metadata": {
        "id": "nKwbNT6XkXmj"
      },
      "outputs": [],
      "source": [
        "df_final_data = df_final_data.drop(['all_util_Extremely_Risky', 'all_util_Moderate', 'all_util_Risky', \n",
        "                                    'all_util_Safe', 'revol_util_Extremely_Risky', 'revol_util_Moderate', \n",
        "                                    'revol_util_Risky', 'revol_util_Safe',\n",
        "                                    \"dti_Extremely_Risky\",\"dti_Moderate\",\"dti_Safe\",\"dti_Very_Risky\",\n",
        "                                    \"grade_A\",\"grade_B\",\"grade_C\",\"grade_D\",\"grade_E\",\"grade_F\",\"grade_G\",\"funded_amnt\"], axis=1)"
      ]
    },
    {
      "cell_type": "code",
      "execution_count": 143,
      "metadata": {},
      "outputs": [],
      "source": [
        "# I decided to drop these. While I liked the concept. I simply did not have enough information to replicate them on my own when it was time to test the model.pkl\n",
        "# If I was to create such a model one day I will make sure to have all the tools possible to make my vision alive."
      ]
    },
    {
      "cell_type": "code",
      "execution_count": 144,
      "metadata": {
        "id": "mtiXqdZ8igPT"
      },
      "outputs": [],
      "source": [
        "X = df_final_data.drop('loan_status', axis=1)\n",
        "y = df_final_data['loan_status']"
      ]
    },
    {
      "cell_type": "code",
      "execution_count": 145,
      "metadata": {
        "id": "nLRux-zoiumK"
      },
      "outputs": [],
      "source": [
        "from sklearn.model_selection import train_test_split"
      ]
    },
    {
      "cell_type": "code",
      "execution_count": 146,
      "metadata": {
        "id": "nfSkTxDjilh5"
      },
      "outputs": [],
      "source": [
        "X_train, X_test, y_train, y_test = train_test_split(X, y, test_size=0.2, random_state=42)"
      ]
    },
    {
      "cell_type": "code",
      "execution_count": 147,
      "metadata": {
        "id": "lXQOy-8seSSs"
      },
      "outputs": [
        {
          "name": "stderr",
          "output_type": "stream",
          "text": [
            "2023-05-07 14:49:58.960085: I tensorflow/core/platform/cpu_feature_guard.cc:193] This TensorFlow binary is optimized with oneAPI Deep Neural Network Library (oneDNN) to use the following CPU instructions in performance-critical operations:  AVX2 FMA\n",
            "To enable them in other operations, rebuild TensorFlow with the appropriate compiler flags.\n"
          ]
        }
      ],
      "source": [
        "from keras.models import Sequential\n",
        "from keras.layers import Dense, Dropout\n",
        "from keras import regularizers"
      ]
    },
    {
      "cell_type": "code",
      "execution_count": 148,
      "metadata": {
        "id": "x4KkTiDC2qDt"
      },
      "outputs": [],
      "source": [
        "from sklearn.preprocessing import StandardScaler\n",
        "scaler = StandardScaler()"
      ]
    },
    {
      "cell_type": "code",
      "execution_count": 149,
      "metadata": {
        "id": "lsXETqFh2q8l"
      },
      "outputs": [],
      "source": [
        "X_train = scaler.fit_transform(X_train)\n",
        "X_test = scaler.transform(X_test)"
      ]
    },
    {
      "cell_type": "code",
      "execution_count": 150,
      "metadata": {
        "id": "7X2e0m3YeSUy"
      },
      "outputs": [
        {
          "name": "stderr",
          "output_type": "stream",
          "text": [
            "2023-05-07 14:50:42.259871: I tensorflow/core/platform/cpu_feature_guard.cc:193] This TensorFlow binary is optimized with oneAPI Deep Neural Network Library (oneDNN) to use the following CPU instructions in performance-critical operations:  AVX2 FMA\n",
            "To enable them in other operations, rebuild TensorFlow with the appropriate compiler flags.\n"
          ]
        }
      ],
      "source": [
        "model = Sequential()\n",
        "model.add(Dense(64, input_shape=(37,), activation='relu', kernel_regularizer=regularizers.l1(0.001)))\n",
        "model.add(Dropout(0.5))\n",
        "model.add(Dense(64, activation='relu', kernel_regularizer=regularizers.l1(0.001)))\n",
        "model.add(Dropout(0.5))\n",
        "model.add(Dense(1, activation='sigmoid'))"
      ]
    },
    {
      "cell_type": "code",
      "execution_count": 151,
      "metadata": {
        "id": "M1bdFxP-eSW_"
      },
      "outputs": [],
      "source": [
        "model.compile(optimizer='adam', loss='binary_crossentropy', metrics=['accuracy'])"
      ]
    },
    {
      "cell_type": "code",
      "execution_count": 152,
      "metadata": {
        "colab": {
          "base_uri": "https://localhost:8080/"
        },
        "id": "b6tNjEyQeSZT",
        "outputId": "533caf00-181a-46a6-ea00-fd6ac251d675"
      },
      "outputs": [
        {
          "name": "stdout",
          "output_type": "stream",
          "text": [
            "Epoch 1/10\n",
            "12243/12243 [==============================] - 19s 1ms/step - loss: 0.1791 - accuracy: 0.9714 - val_loss: 0.0895 - val_accuracy: 0.9917\n",
            "Epoch 2/10\n",
            "12243/12243 [==============================] - 16s 1ms/step - loss: 0.0952 - accuracy: 0.9848 - val_loss: 0.0752 - val_accuracy: 0.9915\n",
            "Epoch 3/10\n",
            "12243/12243 [==============================] - 16s 1ms/step - loss: 0.0861 - accuracy: 0.9867 - val_loss: 0.0715 - val_accuracy: 0.9913\n",
            "Epoch 4/10\n",
            "12243/12243 [==============================] - 17s 1ms/step - loss: 0.0827 - accuracy: 0.9872 - val_loss: 0.0749 - val_accuracy: 0.9894\n",
            "Epoch 5/10\n",
            "12243/12243 [==============================] - 16s 1ms/step - loss: 0.0811 - accuracy: 0.9877 - val_loss: 0.0685 - val_accuracy: 0.9927\n",
            "Epoch 6/10\n",
            "12243/12243 [==============================] - 17s 1ms/step - loss: 0.0793 - accuracy: 0.9880 - val_loss: 0.0676 - val_accuracy: 0.9932\n",
            "Epoch 7/10\n",
            "12243/12243 [==============================] - 17s 1ms/step - loss: 0.0792 - accuracy: 0.9883 - val_loss: 0.0661 - val_accuracy: 0.9928\n",
            "Epoch 8/10\n",
            "12243/12243 [==============================] - 17s 1ms/step - loss: 0.0781 - accuracy: 0.9884 - val_loss: 0.0778 - val_accuracy: 0.9885\n",
            "Epoch 9/10\n",
            "12243/12243 [==============================] - 16s 1ms/step - loss: 0.0775 - accuracy: 0.9886 - val_loss: 0.0664 - val_accuracy: 0.9926\n",
            "Epoch 10/10\n",
            "12243/12243 [==============================] - 17s 1ms/step - loss: 0.0772 - accuracy: 0.9886 - val_loss: 0.0700 - val_accuracy: 0.9913\n"
          ]
        }
      ],
      "source": [
        "history = model.fit(X_train, y_train, epochs=10, batch_size=32, validation_data=(X_test, y_test))"
      ]
    },
    {
      "cell_type": "code",
      "execution_count": 153,
      "metadata": {
        "colab": {
          "base_uri": "https://localhost:8080/"
        },
        "id": "LWL3AgixeSbw",
        "outputId": "c6157d05-736a-41db-813c-f992a040ba48"
      },
      "outputs": [
        {
          "name": "stdout",
          "output_type": "stream",
          "text": [
            "3061/3061 [==============================] - 3s 842us/step - loss: 0.0700 - accuracy: 0.9913\n",
            "Test loss: 0.06995581090450287\n",
            "Test accuracy: 0.9912500381469727\n"
          ]
        }
      ],
      "source": [
        "loss, accuracy = model.evaluate(X_test, y_test)\n",
        "print('Test loss:', loss)\n",
        "print('Test accuracy:', accuracy)"
      ]
    },
    {
      "cell_type": "code",
      "execution_count": 154,
      "metadata": {
        "colab": {
          "base_uri": "https://localhost:8080/",
          "height": 0
        },
        "id": "IMTvVTbhi4GN",
        "outputId": "d8cff958-6b6b-4765-9a38-9901f489ac77"
      },
      "outputs": [
        {
          "data": {
            "image/png": "[encoded data removed]",
            "text/plain": [
              "<Figure size 640x480 with 1 Axes>"
            ]
          },
          "metadata": {},
          "output_type": "display_data"
        }
      ],
      "source": [
        "plt.plot(history.history['loss'])\n",
        "plt.plot(history.history['val_loss'])\n",
        "plt.title('Loss Graph Visualization')\n",
        "plt.ylabel('loss')\n",
        "plt.xlabel('epoch')\n",
        "plt.legend(['train','valid'], loc='upper left')\n",
        "plt.show()"
      ]
    },
    {
      "cell_type": "code",
      "execution_count": 155,
      "metadata": {
        "colab": {
          "base_uri": "https://localhost:8080/",
          "height": 0
        },
        "id": "o7WfKxLxi4I9",
        "outputId": "e5410a60-8793-4e01-c561-fc70fbbdd63f"
      },
      "outputs": [
        {
          "data": {
            "image/png": "[encoded data removed]",
            "text/plain": [
              "<Figure size 640x480 with 1 Axes>"
            ]
          },
          "metadata": {},
          "output_type": "display_data"
        }
      ],
      "source": [
        "plt.plot(history.history['accuracy'])\n",
        "plt.plot(history.history['val_accuracy'])\n",
        "plt.title('Accuracy Graph Visualization')\n",
        "plt.ylabel('accuracy')\n",
        "plt.xlabel('epoch')\n",
        "plt.legend(['train','valid'], loc='upper left')\n",
        "plt.show()"
      ]
    },
    {
      "cell_type": "code",
      "execution_count": 156,
      "metadata": {
        "colab": {
          "base_uri": "https://localhost:8080/"
        },
        "id": "MFrgJ3pxhkCI",
        "outputId": "04f1cd4f-1a4d-4b23-a8fd-518ec179e7b9"
      },
      "outputs": [
        {
          "name": "stdout",
          "output_type": "stream",
          "text": [
            "3061/3061 [==============================] - 3s 765us/step\n",
            "              precision    recall  f1-score   support\n",
            "\n",
            "           0       0.95      1.00      0.98     76763\n",
            "           1       1.00      0.82      0.90     21180\n",
            "\n",
            "    accuracy                           0.96     97943\n",
            "   macro avg       0.98      0.91      0.94     97943\n",
            "weighted avg       0.96      0.96      0.96     97943\n",
            "\n"
          ]
        }
      ],
      "source": [
        "from sklearn.metrics import classification_report\n",
        "predictions = (model.predict(X_test).astype(\"int32\"))\n",
        "print(classification_report(y_test,predictions))"
      ]
    },
    {
      "cell_type": "code",
      "execution_count": 158,
      "metadata": {
        "colab": {
          "base_uri": "https://localhost:8080/"
        },
        "id": "gygWqdtMhPuq",
        "outputId": "e00b3c48-044f-4452-a00a-6943c338ac45"
      },
      "outputs": [
        {
          "data": {
            "text/plain": [
              "array([[76763,     0],\n",
              "       [ 3748, 17432]])"
            ]
          },
          "execution_count": 158,
          "metadata": {},
          "output_type": "execute_result"
        }
      ],
      "source": [
        "from sklearn.metrics import confusion_matrix\n",
        "confusion_matrix(y_test,predictions)"
      ]
    },
    {
      "cell_type": "markdown",
      "metadata": {
        "id": "HiLJ-7WTNE0_"
      },
      "source": [
        "# **Deployment**"
      ]
    },
    {
      "cell_type": "markdown",
      "metadata": {
        "id": "bQtT0oWSNN4b"
      },
      "source": [
        "### **The Model Tester**"
      ]
    },
    {
      "cell_type": "code",
      "execution_count": 159,
      "metadata": {
        "id": "Y8MiME_8NR1z"
      },
      "outputs": [],
      "source": [
        "import pickle"
      ]
    },
    {
      "cell_type": "code",
      "execution_count": null,
      "metadata": {
        "id": "hQnLZ_9VNQgC"
      },
      "outputs": [],
      "source": [
        "Pkl_Filename = \"model.pkl\"  \n",
        "\n",
        "with open(Pkl_Filename, 'wb') as file:  \n",
        "    pickle.dump(model, file)"
      ]
    },
    {
      "cell_type": "code",
      "execution_count": 167,
      "metadata": {
        "colab": {
          "base_uri": "https://localhost:8080/"
        },
        "id": "xONsPHLyx0cN",
        "outputId": "845e62d9-7770-4ff0-d3af-3c217470495c"
      },
      "outputs": [
        {
          "name": "stdout",
          "output_type": "stream",
          "text": [
            "Keras model archive loading:\n",
            "File Name                                             Modified             Size\n",
            "config.json                                    2023-05-07 14:59:04         2230\n",
            "metadata.json                                  2023-05-07 14:59:04           64\n",
            "variables.h5                                   2023-05-07 14:59:04        44400\n",
            "Keras weights file (<HDF5 file \"variables.h5\" (mode r)>) loading:\n",
            "...layers\n",
            "......dense\n",
            ".........vars\n",
            "............0\n",
            "............1\n",
            "......dense_1\n",
            ".........vars\n",
            "............0\n",
            "............1\n",
            "......dense_2\n",
            ".........vars\n",
            "............0\n",
            "............1\n",
            "......dropout\n",
            ".........vars\n",
            "......dropout_1\n",
            ".........vars\n",
            "...optimizer\n",
            "......vars\n",
            ".........0\n",
            "...vars\n",
            "1/1 [==============================] - 0s 66ms/step\n",
            "High likelyhood to get charged off by LoanViewer\n"
          ]
        }
      ],
      "source": [
        "model = pickle.load(open('/Users/amirsaccount/Desktop/ConcordiaBootcamp/model.pkl', 'rb'))\n",
        "\n",
        "input_dict = {\"loan_amnt\":25000.0,\"emp_length\": 6.0,\"int_rate\": 9.0,\"installment\": 450,\n",
        "              \"annual_inc\": 45000.0,\"delinq_2yrs\":0.0,\"pub_rec\": 0.0, \"total_pymnt\": 13000,\n",
        "              \"collections_12_mths_ex_med\":0.0,\"acc_now_delinq\":0.0,\n",
        "              \"tot_cur_bal\": 250000.0,\"mort_acc\": 1.0,\"pub_rec_bankruptcies\": 0.0,\"fico_range\": 650.0,\n",
        "              \n",
        "              \"term__36_months\":  0,\"term__60_months\": 1,\n",
        "\n",
        "              \"home_ownership_ANY\": 0,\"home_ownership_MORTGAGE\": 1,\"home_ownership_NONE\":0,\n",
        "              \"home_ownership_OWN\": 0,\"home_ownership_RENT\": 0,\n",
        "              \n",
        "              \"verification_status_Not_Verified\": 0,\n",
        "              \"verification_status_Source_Verified\": 0,\"verification_status_Verified\": 1,\n",
        "\n",
        "              \"purpose_car\": 0,\"purpose_credit_card\": 0,\"purpose_debt_consolidation\": 1,\n",
        "              \"purpose_home_improvement\":0,\"purpose_house\": 0,\"purpose_major_purchase\": 0,\n",
        "              \"purpose_medical\": 0,\"purpose_moving\": 0,\"purpose_other\":0,\n",
        "              \"purpose_renewable_energy\":0,\"purpose_small_business\":0,\"purpose_vacation\":0,\n",
        "              \"purpose_wedding\":0}\n",
        "\n",
        "\n",
        "input_features = np.array(list(input_dict.values())).reshape(1, -1)\n",
        "\n",
        "prediction = model.predict(input_features)\n",
        "\n",
        "if prediction == 1:\n",
        "    print(\"High likelyhood to get charged off by LoanViewer\")\n",
        "else:\n",
        "    print(\"Low likelyhood to get charged off by LoanViewer\")\n"
      ]
    },
    {
      "cell_type": "code",
      "execution_count": null,
      "metadata": {},
      "outputs": [],
      "source": [
        "from flask import Flask, request, render_template\n",
        "\n",
        "app = Flask(__name__, template_folder='/Users/amirsaccount/Desktop/ConcordiaBootcamp/templates')\n",
        "\n",
        "model = pickle.load(open('/Users/amirsaccount/Desktop/ConcordiaBootcamp/model.pkl', 'rb'))\n",
        "\n",
        "@app.route('/')\n",
        "def home():\n",
        "    return render_template('index.html')\n",
        "\n",
        "\n",
        "@app.route('/predict',methods=['POST'])\n",
        "def predict():\n",
        "\n",
        "    int_features = [float(x) for x in request.form.values()]\n",
        "    features = [np.array(int_features)]\n",
        "    prediction = model.predict(features)\n",
        "\n",
        "    if prediction == 1:\n",
        "        return 'High likelyhood to get charged off by LoanViewer'\n",
        "    return 'Low likelyhood to get charged off by LoanViewer'\n",
        "\n",
        "    return render_template('index.html')\n",
        "\n",
        "if __name__ == \"__main__\":\n",
        "    app.run(port=5001)"
      ]
    }
  ],
  "metadata": {
    "colab": {
      "collapsed_sections": [
        "anOA2o3Di9Ts",
        "NvyuzuLVzynR",
        "GwaJ5rVn_ymw",
        "ACbaQUoUhA8S",
        "CN2DZcQbgtN1",
        "OhHBlaI8jERq",
        "nJq6k_r8kgBG",
        "YyZXVGSL_tGQ",
        "aG5HPYd4ePkN",
        "HiLJ-7WTNE0_",
        "bQtT0oWSNN4b",
        "FaOysbpOLsYg"
      ],
      "machine_shape": "hm",
      "provenance": []
    },
    "gpuClass": "standard",
    "kernelspec": {
      "display_name": "Python 3",
      "name": "python3"
    },
    "language_info": {
      "codemirror_mode": {
        "name": "ipython",
        "version": 3
      },
      "file_extension": ".py",
      "mimetype": "text/x-python",
      "name": "python",
      "nbconvert_exporter": "python",
      "pygments_lexer": "ipython3",
      "version": "3.9.12"
    }
  },
  "nbformat": 4,
  "nbformat_minor": 0
}
